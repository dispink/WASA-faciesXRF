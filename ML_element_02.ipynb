{
 "cells": [
  {
   "cell_type": "markdown",
   "metadata": {},
   "source": [
    "# Facies discrimination using elemental intensities\n",
    "Let's adopt the elemental dataset which having the rolling trick to run the gridsearch using server."
   ]
  },
  {
   "cell_type": "code",
   "execution_count": 1,
   "metadata": {},
   "outputs": [],
   "source": [
    "import numpy as np \n",
    "import pandas as pd\n",
    "import dask.dataframe as dd\n",
    "import matplotlib.pyplot as plt\n",
    "import seaborn as sns\n",
    "\n",
    "plt.style.use('ggplot')\n",
    "plt.style.use('seaborn-colorblind')\n",
    "#mpl.rcParams['xtick.labelsize'] = 8\n",
    "#mpl.rcParams[\"image.cmap\"] = 'gray'\n",
    "plt.rcParams['figure.dpi'] = 300\n",
    "plt.rcParams['savefig.dpi'] = 300\n",
    "plt.rcParams['savefig.bbox'] = 'tight'\n",
    "\n",
    "import datetime\n",
    "date = datetime.datetime.now().strftime('%Y%m%d')\n",
    "\n",
    "%matplotlib inline"
   ]
  },
  {
   "cell_type": "markdown",
   "metadata": {},
   "source": [
    "# Run ML: Logistic regression\n",
    "After a struggling of try and error, I conclude several points. Since this rolling trick needs a customized spliting function, which I wrote by myself, the dask has problem of optimize the paralellism with GridsearchCV. No matter using interactive job (dask.jobqueue) or manual sbatch submition, the workers failed at certain parameter C. Below I have two parts. First is the gridsearch results that the worker isn't killed using dask.jobqueue. Second is the gridsearch results using manual submistion that no dask involved at all. The python and submission scripts are named \"grid_lr.py\" and \"submit_lr.sh\". The trials, mostly unsuccessful are named mess_01.ipynb, mess_02.ipynb, grid_lr_dask_mpi.py, and submit_lr_mpi.sh in the folder \"others\"."
   ]
  },
  {
   "cell_type": "markdown",
   "metadata": {},
   "source": [
    "## Prepare data\n",
    "I have tried also implementing dask.dataframe and dask.array, but they all have problem with my customized split function."
   ]
  },
  {
   "cell_type": "code",
   "execution_count": 7,
   "metadata": {},
   "outputs": [],
   "source": [
    "from split import my_train_test_split\n",
    "data_df = pd.read_csv('data/XRF_ML_cr.csv')\n",
    "X = data_df.iloc[:, 1:-2].values\n",
    "y = data_df['facies_merge_1'].values\n",
    "groups = data_df['core_section'].values\n",
    "\n",
    "train_idx, test_idx = my_train_test_split(X, y, groups)\n",
    "#X_train, X_test, y_train, y_test, groups_train, groups_test = my_train_test_split(X, y, groups)"
   ]
  },
  {
   "cell_type": "code",
   "execution_count": 8,
   "metadata": {},
   "outputs": [],
   "source": [
    "X_train = X[train_idx]\n",
    "y_train = y[train_idx]\n",
    "groups_train = groups[train_idx]"
   ]
  },
  {
   "cell_type": "code",
   "execution_count": 5,
   "metadata": {},
   "outputs": [
    {
     "name": "stdout",
     "output_type": "stream",
     "text": [
      "(131261, 24)\n",
      "(22096, 24)\n"
     ]
    }
   ],
   "source": [
    "print(X_train.shape)\n",
    "print(X_test.shape)"
   ]
  },
  {
   "cell_type": "code",
   "execution_count": 15,
   "metadata": {},
   "outputs": [
    {
     "data": {
      "text/plain": [
       "0"
      ]
     },
     "execution_count": 15,
     "metadata": {},
     "output_type": "execute_result"
    }
   ],
   "source": [
    "len(groups[test_idx]) + len(groups_train) - len(groups)"
   ]
  },
  {
   "cell_type": "markdown",
   "metadata": {},
   "source": [
    "The spliting looks as we expected before."
   ]
  },
  {
   "cell_type": "markdown",
   "metadata": {},
   "source": [
    "## Dask jobqueue"
   ]
  },
  {
   "cell_type": "markdown",
   "metadata": {},
   "source": [
    "### Launch deployment"
   ]
  },
  {
   "cell_type": "code",
   "execution_count": 67,
   "metadata": {},
   "outputs": [],
   "source": [
    "from dask.distributed import Client\n",
    "from dask_jobqueue import SLURMCluster\n",
    "cluster = SLURMCluster(\n",
    "    project=\"aslee@10.110.16.5\",\n",
    "    queue='main',\n",
    "    cores=10, \n",
    "    memory='10 GB',\n",
    "    walltime=\"00:10:00\",\n",
    "    log_directory='job_logs'\n",
    ")"
   ]
  },
  {
   "cell_type": "code",
   "execution_count": 66,
   "metadata": {},
   "outputs": [],
   "source": [
    "client.close()\n",
    "cluster.close()"
   ]
  },
  {
   "cell_type": "code",
   "execution_count": 68,
   "metadata": {},
   "outputs": [],
   "source": [
    "client = Client(cluster)\n",
    "cluster.scale(50)\n",
    "#cluster.adapt(maximum=100)"
   ]
  },
  {
   "cell_type": "code",
   "execution_count": 14,
   "metadata": {},
   "outputs": [
    {
     "data": {
      "text/html": [
       "<table style=\"border: 2px solid white;\">\n",
       "<tr>\n",
       "<td style=\"vertical-align: top; border: 0px solid white\">\n",
       "<h3 style=\"text-align: left;\">Client</h3>\n",
       "<ul style=\"text-align: left; list-style: none; margin: 0; padding: 0;\">\n",
       "  <li><b>Scheduler: </b>tcp://10.110.16.11:43095</li>\n",
       "  <li><b>Dashboard: </b><a href='http://10.110.16.11:8787/status' target='_blank'>http://10.110.16.11:8787/status</a></li>\n",
       "</ul>\n",
       "</td>\n",
       "<td style=\"vertical-align: top; border: 0px solid white\">\n",
       "<h3 style=\"text-align: left;\">Cluster</h3>\n",
       "<ul style=\"text-align: left; list-style:none; margin: 0; padding: 0;\">\n",
       "  <li><b>Workers: </b>22</li>\n",
       "  <li><b>Cores: </b>44</li>\n",
       "  <li><b>Memory: </b>44.00 GB</li>\n",
       "</ul>\n",
       "</td>\n",
       "</tr>\n",
       "</table>"
      ],
      "text/plain": [
       "<Client: 'tcp://10.110.16.11:43095' processes=5 threads=10, memory=10.00 GB>"
      ]
     },
     "execution_count": 14,
     "metadata": {},
     "output_type": "execute_result"
    }
   ],
   "source": [
    "client"
   ]
  },
  {
   "cell_type": "code",
   "execution_count": 93,
   "metadata": {},
   "outputs": [],
   "source": [
    "# for restart cluster\n",
    "client.close()\n",
    "cluster.close()\n",
    "\n",
    "cluster = SLURMCluster(\n",
    "    project=\"aslee@10.110.16.5\",\n",
    "    queue='main',\n",
    "    cores=10, \n",
    "    memory='10 GB',\n",
    "    walltime=\"00:10:00\",\n",
    "    log_directory='job_logs'\n",
    ")\n",
    "\n",
    "client = Client(cluster)\n",
    "cluster.scale(50)"
   ]
  },
  {
   "cell_type": "markdown",
   "metadata": {},
   "source": [
    "### With PCA"
   ]
  },
  {
   "cell_type": "code",
   "execution_count": 25,
   "metadata": {},
   "outputs": [
    {
     "name": "stdout",
     "output_type": "stream",
     "text": [
      "Best score on validation set: 0.58\n",
      "Best parameters:  {'logisticregression__C': 0.1}\n",
      "CPU times: user 25.1 s, sys: 1.38 s, total: 26.5 s\n",
      "Wall time: 2min 29s\n"
     ]
    }
   ],
   "source": [
    "%%time\n",
    "from sklearn.pipeline import make_pipeline\n",
    "from sklearn.preprocessing import StandardScaler\n",
    "from sklearn.decomposition import PCA\n",
    "from sklearn.linear_model import LogisticRegression\n",
    "from dask_ml.model_selection import GridSearchCV\n",
    "from split import my_group_stratify_shuffle_cv\n",
    "\n",
    "lr = make_pipeline(StandardScaler(), PCA(whiten = True), LogisticRegression(max_iter = 10000, class_weight = 'balanced'))\n",
    "\n",
    "param_grid = {'logisticregression__C': np.logspace(-4, -1, 8)}\n",
    "\n",
    "mycv = my_group_stratify_shuffle_cv(X_train, y_train, groups_train)\n",
    "\n",
    "grid = GridSearchCV(lr, param_grid = param_grid, cv = mycv, scoring = 'balanced_accuracy', n_jobs = -1)\n",
    "\n",
    "grid.fit(X_train, y_train)\n",
    "\n",
    "print(\"Best score on validation set: {:.2f}\".format(grid.best_score_)) \n",
    "print(\"Best parameters: \", grid.best_params_)"
   ]
  },
  {
   "cell_type": "code",
   "execution_count": 27,
   "metadata": {},
   "outputs": [],
   "source": [
    "lr_pca_df = pd.DataFrame(grid.cv_results_)\n",
    "#lr_pca_df.to_csv('results/roll_pca+lr_grid_{}.csv'.format(date))"
   ]
  },
  {
   "cell_type": "code",
   "execution_count": 29,
   "metadata": {},
   "outputs": [
    {
     "name": "stdout",
     "output_type": "stream",
     "text": [
      "Best score on validation set: 0.58\n",
      "Best parameters:  {'logisticregression__C': 10.0}\n",
      "CPU times: user 50.3 s, sys: 2.44 s, total: 52.7 s\n",
      "Wall time: 4min 40s\n"
     ]
    }
   ],
   "source": [
    "%%time\n",
    "from sklearn.pipeline import make_pipeline\n",
    "from sklearn.preprocessing import StandardScaler\n",
    "from sklearn.decomposition import PCA\n",
    "from sklearn.linear_model import LogisticRegression\n",
    "from dask_ml.model_selection import GridSearchCV\n",
    "from split import my_group_stratify_shuffle_cv\n",
    "\n",
    "lr = make_pipeline(StandardScaler(), PCA(whiten = True), LogisticRegression(max_iter = 10000, class_weight = 'balanced'))\n",
    "\n",
    "param_grid = {'logisticregression__C': np.logspace(1, 3, 3)}\n",
    "\n",
    "mycv = my_group_stratify_shuffle_cv(X_train, y_train, groups_train)\n",
    "\n",
    "grid = GridSearchCV(lr, param_grid = param_grid, cv = mycv, scoring = 'balanced_accuracy', n_jobs = -1)\n",
    "\n",
    "grid.fit(X_train, y_train)\n",
    "\n",
    "print(\"Best score on validation set: {:.2f}\".format(grid.best_score_)) \n",
    "print(\"Best parameters: \", grid.best_params_)"
   ]
  },
  {
   "cell_type": "code",
   "execution_count": 112,
   "metadata": {},
   "outputs": [],
   "source": [
    "lr_pca_df = lr_pca_df.append(pd.DataFrame(grid.cv_results_))\n",
    "lr_pca_df.reset_index(drop=True, inplace=True)\n",
    "lr_pca_df.to_csv('results/roll_pca+lr_grid_{}.csv'.format(date))"
   ]
  },
  {
   "cell_type": "code",
   "execution_count": 31,
   "metadata": {},
   "outputs": [
    {
     "data": {
      "image/png": "[encoded data removed]",
      "text/plain": [
       "<Figure size 254.88x254.88 with 1 Axes>"
      ]
     },
     "metadata": {
      "needs_background": "light"
     },
     "output_type": "display_data"
    }
   ],
   "source": [
    "max_index = np.argmax(lr_pca_df.mean_test_score)\n",
    "\n",
    "fig = plt.figure(figsize = (3.54, 3.54))\n",
    "plt.xscale('log')\n",
    "plt.plot(lr_pca_df.param_logisticregression__C, lr_pca_df.mean_test_score, marker = '^', ms = 4, label = 'with PCA')\n",
    "plt.ylabel('Mean test score')\n",
    "plt.xlabel('C')\n",
    "plt.legend()\n",
    "\n",
    "fig.subplots_adjust(wspace = 0.05)\n",
    "#fig.savefig('results/roll_pca+lr_grid_results_combined.png')"
   ]
  },
  {
   "cell_type": "code",
   "execution_count": 36,
   "metadata": {},
   "outputs": [
    {
     "data": {
      "text/plain": [
       "Pipeline(steps=[('standardscaler', StandardScaler()), ('pca', PCA(whiten=True)),\n",
       "                ('logisticregression',\n",
       "                 LogisticRegression(C=10, class_weight='balanced',\n",
       "                                    max_iter=10000))])"
      ]
     },
     "execution_count": 36,
     "metadata": {},
     "output_type": "execute_result"
    }
   ],
   "source": [
    "lr = make_pipeline(StandardScaler(), PCA(whiten=True), LogisticRegression(C=10, max_iter=10000, class_weight='balanced'))\n",
    "lr.fit(X_train, y_train)"
   ]
  },
  {
   "cell_type": "code",
   "execution_count": 37,
   "metadata": {},
   "outputs": [
    {
     "data": {
      "text/plain": [
       "['models/roll_pca+lr_model_20201113.joblib']"
      ]
     },
     "execution_count": 37,
     "metadata": {},
     "output_type": "execute_result"
    }
   ],
   "source": [
    "from joblib import dump, load\n",
    "#model = load('models/tc_nmf+svr_model_20201012.joblib')\n",
    "#dump(grid.best_estimator_, 'models/roll_pca+lr_model_{}.joblib'.format(date)) \n",
    "dump(lr, 'models/roll_pca+lr_model_{}.joblib'.format(date)) "
   ]
  },
  {
   "cell_type": "markdown",
   "metadata": {},
   "source": [
    "### Without PCA"
   ]
  },
  {
   "cell_type": "code",
   "execution_count": 94,
   "metadata": {},
   "outputs": [
    {
     "name": "stdout",
     "output_type": "stream",
     "text": [
      "Best score on validation set: 0.57\n",
      "Best parameters:  {'logisticregression__C': 0.001}\n",
      "CPU times: user 18.2 s, sys: 1.16 s, total: 19.3 s\n",
      "Wall time: 42.7 s\n"
     ]
    }
   ],
   "source": [
    "%%time\n",
    "from sklearn.pipeline import make_pipeline\n",
    "from sklearn.preprocessing import StandardScaler\n",
    "from sklearn.linear_model import LogisticRegression\n",
    "from dask_ml.model_selection import GridSearchCV\n",
    "from split import my_group_stratify_shuffle_cv\n",
    "\n",
    "lr = make_pipeline(StandardScaler(), LogisticRegression(max_iter = 10000, class_weight = 'balanced'))\n",
    "\n",
    "param_grid = {'logisticregression__C': np.logspace(-4, -3, 4)}\n",
    "\n",
    "mycv = my_group_stratify_shuffle_cv(X_train, y_train, groups_train)\n",
    "\n",
    "grid = GridSearchCV(lr, param_grid = param_grid, cv = mycv, scoring = 'balanced_accuracy', n_jobs = -1)\n",
    "\n",
    "grid.fit(X_train, y_train)\n",
    "\n",
    "print(\"Best score on validation set: {:.2f}\".format(grid.best_score_)) \n",
    "print(\"Best parameters: \", grid.best_params_)"
   ]
  },
  {
   "cell_type": "code",
   "execution_count": 99,
   "metadata": {},
   "outputs": [],
   "source": [
    "lr_df = pd.DataFrame(grid.cv_results_)\n",
    "lr_df.to_csv('results/roll_lr_grid_{}.csv'.format(date))"
   ]
  },
  {
   "cell_type": "code",
   "execution_count": 100,
   "metadata": {},
   "outputs": [
    {
     "data": {
      "image/png": "[encoded data removed]",
      "text/plain": [
       "<Figure size 254.88x254.88 with 1 Axes>"
      ]
     },
     "metadata": {
      "needs_background": "light"
     },
     "output_type": "display_data"
    }
   ],
   "source": [
    "max_index = np.argmax(lr_df.mean_test_score)\n",
    "\n",
    "fig = plt.figure(figsize = (3.54, 3.54))\n",
    "plt.xscale('log')\n",
    "#plt.ylim(0.61, 0.68)\n",
    "#plt.plot(lr_noPCA_df.param_logisticregression__C, lr_noPCA_df.mean_test_score, marker = 'o', ms = 4, label = 'without PCA')\n",
    "plt.plot(lr_df.param_logisticregression__C, lr_df.mean_test_score, marker = '^', ms = 4, label = 'with PCA')\n",
    "#plt.yticks(np.linspace(0.625, 0.675, 3))\n",
    "plt.ylabel('Mean test score')\n",
    "plt.xlabel('C')\n",
    "plt.legend()\n",
    "\n",
    "#plt.annotate(s = 'Best score = {:.3f}\\nC = {}'.format(lr_df.mean_test_score[max_index], lr_df.param_logisticregression__C[max_index]),\n",
    "#             xy = (lr_df.param_logisticregression__C[max_index], lr_df.mean_test_score[max_index]-.001),\n",
    "#             xytext = (0.1, 0.625), arrowprops=dict(facecolor='gray', arrowstyle = 'fancy')\n",
    "#            )\n",
    "fig.subplots_adjust(wspace = 0.05)\n",
    "#fig.savefig('results/roll_pca+lr_grid_results_combined.png')"
   ]
  },
  {
   "cell_type": "code",
   "execution_count": 101,
   "metadata": {},
   "outputs": [
    {
     "data": {
      "text/plain": [
       "Pipeline(steps=[('standardscaler', StandardScaler()),\n",
       "                ('logisticregression',\n",
       "                 LogisticRegression(C=0.001, class_weight='balanced',\n",
       "                                    max_iter=10000))])"
      ]
     },
     "execution_count": 101,
     "metadata": {},
     "output_type": "execute_result"
    }
   ],
   "source": [
    "lr = make_pipeline(StandardScaler(), LogisticRegression(C=0.001, max_iter=10000, class_weight='balanced'))\n",
    "lr.fit(X_train, y_train)"
   ]
  },
  {
   "cell_type": "code",
   "execution_count": 102,
   "metadata": {},
   "outputs": [
    {
     "data": {
      "text/plain": [
       "['models/roll_lr_model_20201113.joblib']"
      ]
     },
     "execution_count": 102,
     "metadata": {},
     "output_type": "execute_result"
    }
   ],
   "source": [
    "from joblib import dump, load\n",
    "#model = load('models/tc_nmf+svr_model_20201012.joblib')\n",
    "#dump(grid.best_estimator_, 'models/roll_pca+lr_model_{}.joblib'.format(date)) \n",
    "dump(lr, 'models/roll_lr_model_{}.joblib'.format(date)) "
   ]
  },
  {
   "cell_type": "markdown",
   "metadata": {},
   "source": [
    "### Combined result"
   ]
  },
  {
   "cell_type": "code",
   "execution_count": 111,
   "metadata": {},
   "outputs": [
    {
     "data": {
      "image/png": "[encoded data removed]",
      "text/plain": [
       "<Figure size 254.88x254.88 with 1 Axes>"
      ]
     },
     "metadata": {
      "needs_background": "light"
     },
     "output_type": "display_data"
    }
   ],
   "source": [
    "max_index = np.argmax(lr_pca_df.mean_test_score)\n",
    "\n",
    "fig = plt.figure(figsize = (3.54, 3.54))\n",
    "plt.xscale('log')\n",
    "#plt.ylim(0.61, 0.68)\n",
    "plt.plot(lr_df.param_logisticregression__C, lr_df.mean_test_score, marker = '^', ms = 4, label = 'without PCA')\n",
    "plt.plot(lr_pca_df.param_logisticregression__C, lr_pca_df.mean_test_score, marker = 'o', ms = 4, label = 'with PCA')\n",
    "#plt.yticks(np.linspace(0.625, 0.675, 3))\n",
    "plt.ylabel('Mean test score')\n",
    "plt.xlabel('C')\n",
    "plt.legend()\n",
    "\n",
    "plt.annotate(text = 'Best score = {:.3f}\\nC = {}'.format(lr_pca_df.mean_test_score[max_index], lr_pca_df.param_logisticregression__C[max_index]),\n",
    "             xy = (lr_pca_df.param_logisticregression__C[max_index], lr_pca_df.mean_test_score[max_index]-.001),\n",
    "             xytext = (0.1, 0.57), arrowprops=dict(facecolor='gray', arrowstyle = 'fancy')\n",
    "            )\n",
    "fig.subplots_adjust(wspace = 0.05)\n",
    "fig.savefig('results/roll_pca+lr_grid_combined_{}.png'.format(date))"
   ]
  },
  {
   "cell_type": "markdown",
   "metadata": {},
   "source": [
    "For lr with PCA, values of parameter C around 1 cause the server to break.<br>\n",
    "For lr without PCA, values of parameter C larger than 0.001 cause the server to break already."
   ]
  },
  {
   "cell_type": "markdown",
   "metadata": {},
   "source": [
    "## Manual submission\n",
    "No dask involved. With and without PCA computation in total costs 6 minutes and all parameter C values are executed, which is way faster than the any dask involved attempts. The models are stored as roll_pca+lr_model_ss_20201113.joblib and roll_lr_model_ss_20201113.joblib. The job log is slurm-20675.txt."
   ]
  },
  {
   "cell_type": "code",
   "execution_count": 3,
   "metadata": {},
   "outputs": [],
   "source": [
    "lr_pca_df = pd.read_csv('results/roll_pca+lr_grid_ss_20201113.csv', index_col=0)\n",
    "lr_df = pd.read_csv('results/roll_lr_grid_ss_20201113.csv', index_col=0)"
   ]
  },
  {
   "cell_type": "code",
   "execution_count": 10,
   "metadata": {},
   "outputs": [
    {
     "data": {
      "image/png": "[encoded data removed]",
      "text/plain": [
       "<Figure size 254.88x254.88 with 1 Axes>"
      ]
     },
     "metadata": {
      "needs_background": "light"
     },
     "output_type": "display_data"
    }
   ],
   "source": [
    "max_index = np.argmax(lr_df.mean_test_score)\n",
    "\n",
    "fig = plt.figure(figsize = (3.54, 3.54))\n",
    "plt.xscale('log')\n",
    "plt.ylim(0.545, 0.595)\n",
    "plt.plot(lr_df.param_logisticregression__C, lr_df.mean_test_score, marker = '^', ms = 4, label = 'without PCA')\n",
    "plt.plot(lr_pca_df.param_logisticregression__C, lr_pca_df.mean_test_score, marker = 'o', ms = 4, label = 'with PCA')\n",
    "#plt.yticks(np.linspace(0.625, 0.675, 3))\n",
    "plt.ylabel('Mean test score')\n",
    "plt.xlabel('C')\n",
    "plt.legend()\n",
    "\n",
    "plt.annotate(text = 'Best score = {:.3f}\\nC = {}'.format(lr_df.mean_test_score[max_index], lr_df.param_logisticregression__C[max_index]),\n",
    "             xy = (lr_df.param_logisticregression__C[max_index], lr_df.mean_test_score[max_index]-.001),\n",
    "             xytext = (0.1, 0.56), arrowprops=dict(facecolor='gray', arrowstyle = 'fancy')\n",
    "            )\n",
    "fig.subplots_adjust(wspace = 0.05)\n",
    "fig.savefig('results/roll_pca+lr_grid_ss_combined_{}.png'.format(date))"
   ]
  }
 ],
 "metadata": {
  "kernelspec": {
   "display_name": "Python 3",
   "language": "python",
   "name": "python3"
  },
  "language_info": {
   "codemirror_mode": {
    "name": "ipython",
    "version": 3
   },
   "file_extension": ".py",
   "mimetype": "text/x-python",
   "name": "python",
   "nbconvert_exporter": "python",
   "pygments_lexer": "ipython3",
   "version": "3.7.7"
  }
 },
 "nbformat": 4,
 "nbformat_minor": 4
}
