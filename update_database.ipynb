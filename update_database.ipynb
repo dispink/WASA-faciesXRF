{
 "cells": [
  {
   "cell_type": "markdown",
   "metadata": {
    "colab_type": "text",
    "id": "jUbRc9rYauJ3"
   },
   "source": [
    "# Construct further information\n",
    "coring date, tidezone, water depth, and GPS (long_utm, lat_utm)"
   ]
  },
  {
   "cell_type": "code",
   "execution_count": null,
   "metadata": {
    "colab": {},
    "colab_type": "code",
    "id": "vju9boLBjqPm"
   },
   "outputs": [],
   "source": [
    "import os\n",
    "import numpy as np\n",
    "import pandas as pd\n",
    "\n",
    "path = '~\\\\GeopolarLabor\\\\#Projekte\\\\WASA'\n",
    "os.chdir(path)"
   ]
  },
  {
   "cell_type": "code",
   "execution_count": null,
   "metadata": {
    "colab": {
     "base_uri": "https://localhost:8080/",
     "height": 34
    },
    "colab_type": "code",
    "executionInfo": {
     "elapsed": 1029,
     "status": "ok",
     "timestamp": 1558971561097,
     "user": {
      "displayName": "李安昇",
      "photoUrl": "",
      "userId": "02346230550213756808"
     },
     "user_tz": -120
    },
    "id": "wd9LAU7Mp6t2",
    "outputId": "475f4d7a-7a0c-4678-cda1-af930e008773"
   },
   "outputs": [
    {
     "data": {
      "text/plain": [
       "226"
      ]
     },
     "execution_count": 71,
     "metadata": {
      "tags": []
     },
     "output_type": "execute_result"
    }
   ],
   "source": [
    "new_info = pd.read_excel('XRF\\\\data_composite\\\\WASA_Umrechnung_Kerntiefen_20190313.xlsx', sheet_name = 'WASA_cores_20181127', \n",
    "                         usecols = [7, 11, 12, 13, 14 ,15])\n",
    "len(new_info)"
   ]
  },
  {
   "cell_type": "code",
   "execution_count": null,
   "metadata": {
    "colab": {
     "base_uri": "https://localhost:8080/",
     "height": 34
    },
    "colab_type": "code",
    "executionInfo": {
     "elapsed": 35,
     "status": "ok",
     "timestamp": 1558971606888,
     "user": {
      "displayName": "李安昇",
      "photoUrl": "",
      "userId": "02346230550213756808"
     },
     "user_tz": -120
    },
    "id": "GuTzAkeCwtnf",
    "outputId": "709975bf-9b8d-40f2-c086-9b62eed90b96"
   },
   "outputs": [
    {
     "data": {
      "text/plain": [
       "126"
      ]
     },
     "execution_count": 73,
     "metadata": {
      "tags": []
     },
     "output_type": "execute_result"
    }
   ],
   "source": [
    "# the na in dpeth_nhn means 0 water depth\n",
    "new_info.Depth_NHN.fillna(0, inplace = True)\n",
    "# remove the cores lacking information\n",
    "new_info = new_info.dropna(axis = 0, how= 'any').reset_index(drop = True)\n",
    "\n",
    "len(new_info)"
   ]
  },
  {
   "cell_type": "code",
   "execution_count": null,
   "metadata": {
    "colab": {},
    "colab_type": "code",
    "id": "3T-zTyi_yVgA"
   },
   "outputs": [],
   "source": [
    "# change column names\n",
    "cols = [_.lower() for _ in new_info.columns]\n",
    "cols[2] = 'core_id'\n",
    "new_info.columns = cols"
   ]
  },
  {
   "cell_type": "code",
   "execution_count": null,
   "metadata": {
    "colab": {},
    "colab_type": "code",
    "id": "3ae2tgJn0GRh"
   },
   "outputs": [],
   "source": [
    "# uppercase the core_id\n",
    "new_info['core_id'] = [ _.upper() for _ in new_info.core_id]\n",
    "\n",
    "# assign core_id as the index\n",
    "new_info.set_index('core_id', inplace = True)"
   ]
  },
  {
   "cell_type": "code",
   "execution_count": null,
   "metadata": {
    "colab": {},
    "colab_type": "code",
    "id": "kkKD5olQ3ecR"
   },
   "outputs": [],
   "source": [
    "new_info['date'] = ['{}-{}-{}'.format(_[:4], _[4:6], _[6:]) for _ in new_info.date.astype(int).astype(str)]"
   ]
  },
  {
   "cell_type": "code",
   "execution_count": null,
   "metadata": {
    "colab": {},
    "colab_type": "code",
    "id": "JyDIJN1N96rR"
   },
   "outputs": [],
   "source": [
    "dates =[]\n",
    "zones = []\n",
    "longs = []\n",
    "lats = []\n",
    "depths = []\n",
    "\n",
    "for row in range(len(info_df)):\n",
    "  core_id = info_df.core_id[row]\n",
    "  \n",
    "  dates.append(new_info.date[core_id])\n",
    "  zones.append(new_info.tidezone[core_id])\n",
    "  longs.append(new_info.long_utm[core_id])\n",
    "  lats.append(new_info.lat_utm[core_id])\n",
    "  \n",
    "  # plus the water depth\n",
    "  depths.append(info_df.composite_depth_mm[row] - new_info.depth_nhn[core_id] * 1000)\n",
    "\n",
    "info_df['coring_date'] = dates\n",
    "info_df['tidezone'] = zones\n",
    "info_df['long_utm'] = longs\n",
    "info_df['lat_utm'] = lats\n",
    "info_df['depth_to_water_surface_mm'] = depths"
   ]
  },
  {
   "cell_type": "markdown",
   "metadata": {
    "colab_type": "text",
    "id": "O-RVf7zkCht4"
   },
   "source": [
    "export new infos and the old infos with header"
   ]
  },
  {
   "cell_type": "code",
   "execution_count": null,
   "metadata": {
    "colab": {},
    "colab_type": "code",
    "id": "nU-ORNUk-Du1"
   },
   "outputs": [],
   "source": [
    "for col in info_df.columns:\n",
    "  info_df[col].to_csv('database\\\\info.cleaned.{}.csv'.format(col), index = False, header = col)"
   ]
  },
  {
   "cell_type": "code",
   "execution_count": null,
   "metadata": {
    "colab": {
     "base_uri": "https://localhost:8080/",
     "height": 235
    },
    "colab_type": "code",
    "executionInfo": {
     "elapsed": 35,
     "status": "ok",
     "timestamp": 1558974004090,
     "user": {
      "displayName": "李安昇",
      "photoUrl": "",
      "userId": "02346230550213756808"
     },
     "user_tz": -120
    },
    "id": "A_yV-GG25Du5",
    "outputId": "bbb9bf42-0308-4d96-cf54-be5b03dbbaa0"
   },
   "outputs": [
    {
     "data": {
      "text/html": [
       "<div>\n",
       "<style scoped>\n",
       "    .dataframe tbody tr th:only-of-type {\n",
       "        vertical-align: middle;\n",
       "    }\n",
       "\n",
       "    .dataframe tbody tr th {\n",
       "        vertical-align: top;\n",
       "    }\n",
       "\n",
       "    .dataframe thead th {\n",
       "        text-align: right;\n",
       "    }\n",
       "</style>\n",
       "<table border=\"1\" class=\"dataframe\">\n",
       "  <thead>\n",
       "    <tr style=\"text-align: right;\">\n",
       "      <th></th>\n",
       "      <th>date</th>\n",
       "      <th>tidezone</th>\n",
       "      <th>depth_nhn</th>\n",
       "      <th>long_utm</th>\n",
       "      <th>lat_utm</th>\n",
       "    </tr>\n",
       "    <tr>\n",
       "      <th>core_id</th>\n",
       "      <th></th>\n",
       "      <th></th>\n",
       "      <th></th>\n",
       "      <th></th>\n",
       "      <th></th>\n",
       "    </tr>\n",
       "  </thead>\n",
       "  <tbody>\n",
       "    <tr>\n",
       "      <th>N02</th>\n",
       "      <td>2017-08-16</td>\n",
       "      <td>subtidal</td>\n",
       "      <td>0.0</td>\n",
       "      <td>384547.933355</td>\n",
       "      <td>5.959440e+06</td>\n",
       "    </tr>\n",
       "    <tr>\n",
       "      <th>N03</th>\n",
       "      <td>2017-08-16</td>\n",
       "      <td>subtidal</td>\n",
       "      <td>0.0</td>\n",
       "      <td>388593.066041</td>\n",
       "      <td>5.960124e+06</td>\n",
       "    </tr>\n",
       "    <tr>\n",
       "      <th>N05</th>\n",
       "      <td>2018-04-17</td>\n",
       "      <td>subtidal</td>\n",
       "      <td>0.0</td>\n",
       "      <td>389006.938382</td>\n",
       "      <td>5.958470e+06</td>\n",
       "    </tr>\n",
       "    <tr>\n",
       "      <th>N06</th>\n",
       "      <td>2017-09-28</td>\n",
       "      <td>subtidal</td>\n",
       "      <td>0.0</td>\n",
       "      <td>384565.722230</td>\n",
       "      <td>5.955993e+06</td>\n",
       "    </tr>\n",
       "    <tr>\n",
       "      <th>N10</th>\n",
       "      <td>2018-04-17</td>\n",
       "      <td>subtidal</td>\n",
       "      <td>0.0</td>\n",
       "      <td>389460.021660</td>\n",
       "      <td>5.956522e+06</td>\n",
       "    </tr>\n",
       "  </tbody>\n",
       "</table>\n",
       "</div>"
      ],
      "text/plain": [
       "               date  tidezone  depth_nhn       long_utm       lat_utm\n",
       "core_id                                                              \n",
       "N02      2017-08-16  subtidal        0.0  384547.933355  5.959440e+06\n",
       "N03      2017-08-16  subtidal        0.0  388593.066041  5.960124e+06\n",
       "N05      2018-04-17  subtidal        0.0  389006.938382  5.958470e+06\n",
       "N06      2017-09-28  subtidal        0.0  384565.722230  5.955993e+06\n",
       "N10      2018-04-17  subtidal        0.0  389460.021660  5.956522e+06"
      ]
     },
     "execution_count": 89,
     "metadata": {
      "tags": []
     },
     "output_type": "execute_result"
    }
   ],
   "source": [
    "new_info.head()"
   ]
  },
  {
   "cell_type": "markdown",
   "metadata": {
    "colab_type": "text",
    "id": "ZrwbzkpWr5WA"
   },
   "source": [
    "# Composite depth adjustment\n",
    "Considering the offset caused by the cap (4~10 mm), the composite depth is subtracted by 4 mm overall. This act is believed to minimize the depth uncertainty in the range of +/- 2 mm."
   ]
  },
  {
   "cell_type": "code",
   "execution_count": 1,
   "metadata": {
    "colab": {},
    "colab_type": "code",
    "id": "0tv5CqJPx4eg"
   },
   "outputs": [],
   "source": [
    "import os\n",
    "import pandas as pd\n",
    "import glob\n",
    "import matplotlib.pyplot as plt\n",
    "plt.style.use('ggplot')\n",
    "plt.style.use('seaborn-colorblind')\n",
    "%matplotlib inline\n",
    "\n",
    "path = '~\\\\GeopolarLabor\\\\#Projekte\\\\WASA'\n",
    "os.chdir(path)"
   ]
  },
  {
   "cell_type": "code",
   "execution_count": 6,
   "metadata": {},
   "outputs": [],
   "source": [
    "X = pd.read_csv('database\\\\info.cleaned.core_id.csv', index_col = 0, squeeze = True)"
   ]
  },
  {
   "cell_type": "code",
   "execution_count": 8,
   "metadata": {},
   "outputs": [
    {
     "data": {
      "text/plain": [
       "92"
      ]
     },
     "execution_count": 8,
     "metadata": {},
     "output_type": "execute_result"
    }
   ],
   "source": [
    "len(set(X))"
   ]
  },
  {
   "cell_type": "code",
   "execution_count": null,
   "metadata": {
    "colab": {},
    "colab_type": "code",
    "id": "Fnn36N1WfyFj"
   },
   "outputs": [],
   "source": [
    "info_cols = ['composite_id', 'core_id', 'core_section', 'composite_depth_mm', 'original_depth_mm']  # probably I can add other information such as tidezone\n",
    "\n",
    "info_df = pd.DataFrame()\n",
    "for col in info_cols:\n",
    "  X = pd.read_csv('database\\\\info.cleaned.{}.csv'.format(col), squeeze = True)\n",
    "  info_df[col] = X\n",
    "  del X"
   ]
  },
  {
   "cell_type": "code",
   "execution_count": null,
   "metadata": {
    "colab": {},
    "colab_type": "code",
    "id": "TNPOBBtbqSsY"
   },
   "outputs": [],
   "source": [
    "info_df.composite_depth_mm = info_df.composite_depth_mm - 4\n",
    "info_df.composite_depth_mm.to_csv('database\\\\info.cleaned.composite_depth_mm.csv', index = False, header = True)"
   ]
  },
  {
   "cell_type": "code",
   "execution_count": null,
   "metadata": {
    "colab": {
     "base_uri": "https://localhost:8080/",
     "height": 197
    },
    "colab_type": "code",
    "executionInfo": {
     "elapsed": 18,
     "status": "ok",
     "timestamp": 1570194545530,
     "user": {
      "displayName": "李安昇",
      "photoUrl": "",
      "userId": "02346230550213756808"
     },
     "user_tz": -120
    },
    "id": "5ATs9Ze0B8NE",
    "outputId": "98a85047-4326-4ef2-aee4-32cda1b73d58"
   },
   "outputs": [
    {
     "data": {
      "text/html": [
       "<div>\n",
       "<style scoped>\n",
       "    .dataframe tbody tr th:only-of-type {\n",
       "        vertical-align: middle;\n",
       "    }\n",
       "\n",
       "    .dataframe tbody tr th {\n",
       "        vertical-align: top;\n",
       "    }\n",
       "\n",
       "    .dataframe thead th {\n",
       "        text-align: right;\n",
       "    }\n",
       "</style>\n",
       "<table border=\"1\" class=\"dataframe\">\n",
       "  <thead>\n",
       "    <tr style=\"text-align: right;\">\n",
       "      <th></th>\n",
       "      <th>composite_id</th>\n",
       "      <th>core_id</th>\n",
       "      <th>core_section</th>\n",
       "      <th>composite_depth_mm</th>\n",
       "      <th>original_depth_mm</th>\n",
       "    </tr>\n",
       "  </thead>\n",
       "  <tbody>\n",
       "    <tr>\n",
       "      <th>0</th>\n",
       "      <td>N10_000005</td>\n",
       "      <td>N10</td>\n",
       "      <td>N10-5</td>\n",
       "      <td>1</td>\n",
       "      <td>5.0</td>\n",
       "    </tr>\n",
       "    <tr>\n",
       "      <th>1</th>\n",
       "      <td>N10_000007</td>\n",
       "      <td>N10</td>\n",
       "      <td>N10-5</td>\n",
       "      <td>3</td>\n",
       "      <td>7.0</td>\n",
       "    </tr>\n",
       "    <tr>\n",
       "      <th>2</th>\n",
       "      <td>N10_000009</td>\n",
       "      <td>N10</td>\n",
       "      <td>N10-5</td>\n",
       "      <td>5</td>\n",
       "      <td>9.0</td>\n",
       "    </tr>\n",
       "    <tr>\n",
       "      <th>3</th>\n",
       "      <td>N10_000011</td>\n",
       "      <td>N10</td>\n",
       "      <td>N10-5</td>\n",
       "      <td>7</td>\n",
       "      <td>11.0</td>\n",
       "    </tr>\n",
       "    <tr>\n",
       "      <th>4</th>\n",
       "      <td>N10_000013</td>\n",
       "      <td>N10</td>\n",
       "      <td>N10-5</td>\n",
       "      <td>9</td>\n",
       "      <td>13.0</td>\n",
       "    </tr>\n",
       "  </tbody>\n",
       "</table>\n",
       "</div>"
      ],
      "text/plain": [
       "  composite_id core_id core_section  composite_depth_mm  original_depth_mm\n",
       "0   N10_000005     N10        N10-5                   1                5.0\n",
       "1   N10_000007     N10        N10-5                   3                7.0\n",
       "2   N10_000009     N10        N10-5                   5                9.0\n",
       "3   N10_000011     N10        N10-5                   7               11.0\n",
       "4   N10_000013     N10        N10-5                   9               13.0"
      ]
     },
     "execution_count": 10,
     "metadata": {
      "tags": []
     },
     "output_type": "execute_result"
    }
   ],
   "source": [
    "info_df.head()"
   ]
  },
  {
   "cell_type": "markdown",
   "metadata": {
    "colab_type": "text",
    "id": "E4sibUwp0neW"
   },
   "source": [
    "These negative depth poitnts all happen in the top section. I reckon this is caused by the inconsistent position of air-sediment boundary between core description and the operator doing the scan. Therefore, I just delete those datapoints and update the whole database."
   ]
  },
  {
   "cell_type": "markdown",
   "metadata": {
    "colab_type": "text",
    "id": "xDe-89lc2tNd"
   },
   "source": [
    "## update the result data"
   ]
  },
  {
   "cell_type": "code",
   "execution_count": null,
   "metadata": {
    "colab": {},
    "colab_type": "code",
    "id": "aWTvB_VU3URv"
   },
   "outputs": [],
   "source": [
    "X_result_df = pd.read_csv('database\\XRF_results.cleaned.all.csv')\n",
    "X_all_df = pd.concat((info_df, X_result_df), axis = 1)"
   ]
  },
  {
   "cell_type": "code",
   "execution_count": null,
   "metadata": {
    "colab": {
     "base_uri": "https://localhost:8080/",
     "height": 34
    },
    "colab_type": "code",
    "executionInfo": {
     "elapsed": 134,
     "status": "ok",
     "timestamp": 1570195043706,
     "user": {
      "displayName": "李安昇",
      "photoUrl": "",
      "userId": "02346230550213756808"
     },
     "user_tz": -120
    },
    "id": "zhm2sBG8rpk-",
    "outputId": "18784177-c348-41ef-c716-2f0b91250328"
   },
   "outputs": [
    {
     "data": {
      "text/plain": [
       "(170437, 59)"
      ]
     },
     "execution_count": 15,
     "metadata": {
      "tags": []
     },
     "output_type": "execute_result"
    }
   ],
   "source": [
    "X_all_df = X_all_df[X_all_df.composite_depth_mm >= 0]\n",
    "X_all_df.iloc[:, 5:].shape"
   ]
  },
  {
   "cell_type": "code",
   "execution_count": null,
   "metadata": {
    "colab": {},
    "colab_type": "code",
    "id": "VrquUQDG6zTC"
   },
   "outputs": [],
   "source": [
    "X_all_df.iloc[:, 5:].to_csv('database\\XRF_results.cleaned.all.csv', index = False)\n",
    "for col in X_all_df.iloc[:, 5:].columns:\n",
    "  X_all_df[col].to_csv('database\\XRF_results.cleaned.{}.csv'.format(col), header = True, index = False)"
   ]
  },
  {
   "cell_type": "code",
   "execution_count": null,
   "metadata": {
    "colab": {},
    "colab_type": "code",
    "id": "gVlAofCL9Q1Z"
   },
   "outputs": [],
   "source": [
    "del X_result_df"
   ]
  },
  {
   "cell_type": "markdown",
   "metadata": {
    "colab_type": "text",
    "id": "RT0Sw3vR5XP_"
   },
   "source": [
    "## update the composite id and infos"
   ]
  },
  {
   "cell_type": "code",
   "execution_count": null,
   "metadata": {
    "colab": {},
    "colab_type": "code",
    "id": "PVdb8dxd-i3w"
   },
   "outputs": [],
   "source": [
    "idS = []\n",
    "\n",
    "for row in X_all_df.index:\n",
    "  idS.append('{}_{:05}'.format(X_all_df.core_id[row], X_all_df.composite_depth_mm[row])) \n",
    "  \n",
    "pd.Series(idS, name = 'composite_id').to_csv('database\\\\info.cleaned.composite_id.csv', index = False, header = True)"
   ]
  },
  {
   "cell_type": "code",
   "execution_count": null,
   "metadata": {
    "colab": {
     "base_uri": "https://localhost:8080/",
     "height": 34
    },
    "colab_type": "code",
    "executionInfo": {
     "elapsed": 31,
     "status": "ok",
     "timestamp": 1570197017071,
     "user": {
      "displayName": "李安昇",
      "photoUrl": "",
      "userId": "02346230550213756808"
     },
     "user_tz": -120
    },
    "id": "rSzFuq8NBkbC",
    "outputId": "17a3f024-0c43-4732-94b7-044cce9e573c"
   },
   "outputs": [
    {
     "data": {
      "text/plain": [
       "170437"
      ]
     },
     "execution_count": 49,
     "metadata": {
      "tags": []
     },
     "output_type": "execute_result"
    }
   ],
   "source": [
    "len(idS)"
   ]
  },
  {
   "cell_type": "code",
   "execution_count": null,
   "metadata": {
    "colab": {},
    "colab_type": "code",
    "id": "96YospdRCppy"
   },
   "outputs": [],
   "source": [
    "for col in X_all_df.iloc[:, 1:4]:\n",
    "  X_all_df[col].to_csv('database\\\\info.cleaned.{}.csv'.format(col), index = False, header = True)"
   ]
  },
  {
   "cell_type": "markdown",
   "metadata": {
    "colab_type": "text",
    "id": "2riiRWUdtNx9"
   },
   "source": [
    "The above thread didn't update the origianl_depth_mm, so I use XRF_results.cleaned.position_mm.csv to update it. Meanwhile, there are some other info wasn't updated, I'll do it below."
   ]
  },
  {
   "cell_type": "code",
   "execution_count": null,
   "metadata": {
    "colab": {},
    "colab_type": "code",
    "id": "NcDbN4pitz4U"
   },
   "outputs": [],
   "source": [
    "pd.read_csv('database/XRF_results.cleaned.position_mm.csv', names = ['original_depth_mm'], squeeze = True)[1:].to_csv('database\\\\info.cleaned.original_depth_mm.csv', index = False, header = True)"
   ]
  },
  {
   "cell_type": "code",
   "execution_count": null,
   "metadata": {
    "colab": {},
    "colab_type": "code",
    "id": "qxkoTzZBv3gR"
   },
   "outputs": [],
   "source": [
    "olds = ['data_original_dir', 'composite_spe_dir', 'depth_to_water_surface_mm', 'lat_utm', 'long_utm', 'tidezone', 'coring_date' ]"
   ]
  },
  {
   "cell_type": "code",
   "execution_count": null,
   "metadata": {
    "colab": {},
    "colab_type": "code",
    "id": "wgoyQX_7wTtE"
   },
   "outputs": [],
   "source": [
    "info_old = pd.DataFrame()\n",
    "for col in olds:\n",
    "  X = pd.read_csv('database\\\\info.cleaned.{}.csv'.format(col), squeeze = True)\n",
    "  info_old[col] = X\n",
    "  del X"
   ]
  },
  {
   "cell_type": "code",
   "execution_count": null,
   "metadata": {
    "colab": {},
    "colab_type": "code",
    "id": "VjHZMNFowsMc"
   },
   "outputs": [],
   "source": [
    "filename = pd.read_csv('database/XRF_results.cleaned.filename.csv', squeeze = True)"
   ]
  },
  {
   "cell_type": "code",
   "execution_count": 17,
   "metadata": {
    "colab": {
     "base_uri": "https://localhost:8080/",
     "height": 47
    },
    "colab_type": "code",
    "executionInfo": {
     "elapsed": 133,
     "status": "ok",
     "timestamp": 1570628794289,
     "user": {
      "displayName": "李安昇",
      "photoUrl": "",
      "userId": "02346230550213756808"
     },
     "user_tz": -120
    },
    "id": "OXdDGtuHxJ-L",
    "outputId": "ad8f07a8-7547-428f-d343-f0c8a8cca719"
   },
   "outputs": [
    {
     "data": {
      "text/html": [
       "<div>\n",
       "<style scoped>\n",
       "    .dataframe tbody tr th:only-of-type {\n",
       "        vertical-align: middle;\n",
       "    }\n",
       "\n",
       "    .dataframe tbody tr th {\n",
       "        vertical-align: top;\n",
       "    }\n",
       "\n",
       "    .dataframe thead th {\n",
       "        text-align: right;\n",
       "    }\n",
       "</style>\n",
       "<table border=\"1\" class=\"dataframe\">\n",
       "  <thead>\n",
       "    <tr style=\"text-align: right;\">\n",
       "      <th></th>\n",
       "      <th>data_original_dir</th>\n",
       "      <th>composite_spe_dir</th>\n",
       "      <th>depth_to_water_surface_mm</th>\n",
       "      <th>lat_utm</th>\n",
       "      <th>long_utm</th>\n",
       "      <th>tidezone</th>\n",
       "      <th>coring_date</th>\n",
       "    </tr>\n",
       "  </thead>\n",
       "  <tbody>\n",
       "  </tbody>\n",
       "</table>\n",
       "</div>"
      ],
      "text/plain": [
       "Empty DataFrame\n",
       "Columns: [data_original_dir, composite_spe_dir, depth_to_water_surface_mm, lat_utm, long_utm, tidezone, coring_date]\n",
       "Index: []"
      ]
     },
     "execution_count": 17,
     "metadata": {
      "tags": []
     },
     "output_type": "execute_result"
    }
   ],
   "source": [
    "info_old[info_old.composite_spe_dir.isin(new_dir)]"
   ]
  },
  {
   "cell_type": "code",
   "execution_count": null,
   "metadata": {
    "colab": {},
    "colab_type": "code",
    "id": "xqbfChaSx1m0"
   },
   "outputs": [],
   "source": [
    "old_dir = []\n",
    "for row in range(len(info_old)):\n",
    "  old_dir.append(info_old.composite_spe_dir[row].split('\\\\')[-1])\n",
    "\n",
    "info_old['old_dir'] = old_dir\n",
    "\n",
    "new_dir = []\n",
    "for row in range(len(filename)):\n",
    "  new_dir.append(\n",
    "      '_'.join(\n",
    "          filename[row].split('\\\\')[-1].split('_')[1:]\n",
    "      )\n",
    "  )\n",
    "new_dir = pd.Series(new_dir)"
   ]
  },
  {
   "cell_type": "code",
   "execution_count": null,
   "metadata": {
    "colab": {},
    "colab_type": "code",
    "id": "BBP4Ydf17ypL"
   },
   "outputs": [],
   "source": [
    "info_new = info_old[info_old.old_dir.isin(new_dir)]"
   ]
  },
  {
   "cell_type": "code",
   "execution_count": 40,
   "metadata": {
    "colab": {
     "base_uri": "https://localhost:8080/",
     "height": 34
    },
    "colab_type": "code",
    "executionInfo": {
     "elapsed": 26,
     "status": "ok",
     "timestamp": 1570632033327,
     "user": {
      "displayName": "李安昇",
      "photoUrl": "",
      "userId": "02346230550213756808"
     },
     "user_tz": -120
    },
    "id": "euBY3_z758GV",
    "outputId": "3712a88c-ac18-4886-85d1-e9e34cfae559"
   },
   "outputs": [
    {
     "data": {
      "text/plain": [
       "(170437, 8)"
      ]
     },
     "execution_count": 40,
     "metadata": {
      "tags": []
     },
     "output_type": "execute_result"
    }
   ],
   "source": [
    "info_new.shape"
   ]
  },
  {
   "cell_type": "code",
   "execution_count": 38,
   "metadata": {
    "colab": {
     "base_uri": "https://localhost:8080/",
     "height": 217
    },
    "colab_type": "code",
    "executionInfo": {
     "elapsed": 21,
     "status": "ok",
     "timestamp": 1570631646008,
     "user": {
      "displayName": "李安昇",
      "photoUrl": "",
      "userId": "02346230550213756808"
     },
     "user_tz": -120
    },
    "id": "S2PpwYuE8OLO",
    "outputId": "0673a15b-6724-4a73-d37d-6a7e91564247"
   },
   "outputs": [
    {
     "data": {
      "text/html": [
       "<div>\n",
       "<style scoped>\n",
       "    .dataframe tbody tr th:only-of-type {\n",
       "        vertical-align: middle;\n",
       "    }\n",
       "\n",
       "    .dataframe tbody tr th {\n",
       "        vertical-align: top;\n",
       "    }\n",
       "\n",
       "    .dataframe thead th {\n",
       "        text-align: right;\n",
       "    }\n",
       "</style>\n",
       "<table border=\"1\" class=\"dataframe\">\n",
       "  <thead>\n",
       "    <tr style=\"text-align: right;\">\n",
       "      <th></th>\n",
       "      <th>data_original_dir</th>\n",
       "      <th>composite_spe_dir</th>\n",
       "      <th>depth_to_water_surface_mm</th>\n",
       "      <th>lat_utm</th>\n",
       "      <th>long_utm</th>\n",
       "      <th>tidezone</th>\n",
       "      <th>coring_date</th>\n",
       "      <th>old_dir</th>\n",
       "    </tr>\n",
       "  </thead>\n",
       "  <tbody>\n",
       "    <tr>\n",
       "      <th>0</th>\n",
       "      <td>\\\\10.110.16.10\\GeopolarLabor\\#Projekte\\WASA\\XR...</td>\n",
       "      <td>\\\\10.110.16.10\\GeopolarLabor\\#Projekte\\WASA\\XR...</td>\n",
       "      <td>5.0</td>\n",
       "      <td>5.956522e+06</td>\n",
       "      <td>389460.02166</td>\n",
       "      <td>subtidal</td>\n",
       "      <td>2018-04-17</td>\n",
       "      <td>N10_000005.spe</td>\n",
       "    </tr>\n",
       "    <tr>\n",
       "      <th>1</th>\n",
       "      <td>\\\\10.110.16.10\\GeopolarLabor\\#Projekte\\WASA\\XR...</td>\n",
       "      <td>\\\\10.110.16.10\\GeopolarLabor\\#Projekte\\WASA\\XR...</td>\n",
       "      <td>7.0</td>\n",
       "      <td>5.956522e+06</td>\n",
       "      <td>389460.02166</td>\n",
       "      <td>subtidal</td>\n",
       "      <td>2018-04-17</td>\n",
       "      <td>N10_000007.spe</td>\n",
       "    </tr>\n",
       "    <tr>\n",
       "      <th>2</th>\n",
       "      <td>\\\\10.110.16.10\\GeopolarLabor\\#Projekte\\WASA\\XR...</td>\n",
       "      <td>\\\\10.110.16.10\\GeopolarLabor\\#Projekte\\WASA\\XR...</td>\n",
       "      <td>9.0</td>\n",
       "      <td>5.956522e+06</td>\n",
       "      <td>389460.02166</td>\n",
       "      <td>subtidal</td>\n",
       "      <td>2018-04-17</td>\n",
       "      <td>N10_000009.spe</td>\n",
       "    </tr>\n",
       "    <tr>\n",
       "      <th>3</th>\n",
       "      <td>\\\\10.110.16.10\\GeopolarLabor\\#Projekte\\WASA\\XR...</td>\n",
       "      <td>\\\\10.110.16.10\\GeopolarLabor\\#Projekte\\WASA\\XR...</td>\n",
       "      <td>11.0</td>\n",
       "      <td>5.956522e+06</td>\n",
       "      <td>389460.02166</td>\n",
       "      <td>subtidal</td>\n",
       "      <td>2018-04-17</td>\n",
       "      <td>N10_000011.spe</td>\n",
       "    </tr>\n",
       "    <tr>\n",
       "      <th>4</th>\n",
       "      <td>\\\\10.110.16.10\\GeopolarLabor\\#Projekte\\WASA\\XR...</td>\n",
       "      <td>\\\\10.110.16.10\\GeopolarLabor\\#Projekte\\WASA\\XR...</td>\n",
       "      <td>13.0</td>\n",
       "      <td>5.956522e+06</td>\n",
       "      <td>389460.02166</td>\n",
       "      <td>subtidal</td>\n",
       "      <td>2018-04-17</td>\n",
       "      <td>N10_000013.spe</td>\n",
       "    </tr>\n",
       "  </tbody>\n",
       "</table>\n",
       "</div>"
      ],
      "text/plain": [
       "                                   data_original_dir  \\\n",
       "0  \\\\10.110.16.10\\GeopolarLabor\\#Projekte\\WASA\\XR...   \n",
       "1  \\\\10.110.16.10\\GeopolarLabor\\#Projekte\\WASA\\XR...   \n",
       "2  \\\\10.110.16.10\\GeopolarLabor\\#Projekte\\WASA\\XR...   \n",
       "3  \\\\10.110.16.10\\GeopolarLabor\\#Projekte\\WASA\\XR...   \n",
       "4  \\\\10.110.16.10\\GeopolarLabor\\#Projekte\\WASA\\XR...   \n",
       "\n",
       "                                   composite_spe_dir  \\\n",
       "0  \\\\10.110.16.10\\GeopolarLabor\\#Projekte\\WASA\\XR...   \n",
       "1  \\\\10.110.16.10\\GeopolarLabor\\#Projekte\\WASA\\XR...   \n",
       "2  \\\\10.110.16.10\\GeopolarLabor\\#Projekte\\WASA\\XR...   \n",
       "3  \\\\10.110.16.10\\GeopolarLabor\\#Projekte\\WASA\\XR...   \n",
       "4  \\\\10.110.16.10\\GeopolarLabor\\#Projekte\\WASA\\XR...   \n",
       "\n",
       "   depth_to_water_surface_mm       lat_utm      long_utm  tidezone  \\\n",
       "0                        5.0  5.956522e+06  389460.02166  subtidal   \n",
       "1                        7.0  5.956522e+06  389460.02166  subtidal   \n",
       "2                        9.0  5.956522e+06  389460.02166  subtidal   \n",
       "3                       11.0  5.956522e+06  389460.02166  subtidal   \n",
       "4                       13.0  5.956522e+06  389460.02166  subtidal   \n",
       "\n",
       "  coring_date         old_dir  \n",
       "0  2018-04-17  N10_000005.spe  \n",
       "1  2018-04-17  N10_000007.spe  \n",
       "2  2018-04-17  N10_000009.spe  \n",
       "3  2018-04-17  N10_000011.spe  \n",
       "4  2018-04-17  N10_000013.spe  "
      ]
     },
     "execution_count": 38,
     "metadata": {
      "tags": []
     },
     "output_type": "execute_result"
    }
   ],
   "source": [
    "info_new.head()"
   ]
  },
  {
   "cell_type": "code",
   "execution_count": null,
   "metadata": {
    "colab": {},
    "colab_type": "code",
    "id": "ToIqLJCi37a2"
   },
   "outputs": [],
   "source": [
    "for col in info_new.columns[:-1]:\n",
    "  info_new[col].to_csv('database\\\\info.cleaned.{}.csv'.format(col), index = False, header = True)"
   ]
  },
  {
   "cell_type": "markdown",
   "metadata": {},
   "source": [
    "# Update section depth\n",
    "The logic follows the composite depth correction, so the depth is only corrected by the scanning depth correction(4 mm)."
   ]
  },
  {
   "cell_type": "code",
   "execution_count": 4,
   "metadata": {},
   "outputs": [
    {
     "data": {
      "text/html": [
       "<div>\n",
       "<style scoped>\n",
       "    .dataframe tbody tr th:only-of-type {\n",
       "        vertical-align: middle;\n",
       "    }\n",
       "\n",
       "    .dataframe tbody tr th {\n",
       "        vertical-align: top;\n",
       "    }\n",
       "\n",
       "    .dataframe thead th {\n",
       "        text-align: right;\n",
       "    }\n",
       "</style>\n",
       "<table border=\"1\" class=\"dataframe\">\n",
       "  <thead>\n",
       "    <tr style=\"text-align: right;\">\n",
       "      <th></th>\n",
       "      <th>original_depth_mm</th>\n",
       "    </tr>\n",
       "    <tr>\n",
       "      <th>composite_id</th>\n",
       "      <th></th>\n",
       "    </tr>\n",
       "  </thead>\n",
       "  <tbody>\n",
       "    <tr>\n",
       "      <th>N10_00001</th>\n",
       "      <td>5.00</td>\n",
       "    </tr>\n",
       "    <tr>\n",
       "      <th>N10_00003</th>\n",
       "      <td>7.00</td>\n",
       "    </tr>\n",
       "    <tr>\n",
       "      <th>N10_00005</th>\n",
       "      <td>9.00</td>\n",
       "    </tr>\n",
       "    <tr>\n",
       "      <th>N10_00007</th>\n",
       "      <td>11.00</td>\n",
       "    </tr>\n",
       "    <tr>\n",
       "      <th>N10_00009</th>\n",
       "      <td>13.00</td>\n",
       "    </tr>\n",
       "    <tr>\n",
       "      <th>N10_00011</th>\n",
       "      <td>15.00</td>\n",
       "    </tr>\n",
       "    <tr>\n",
       "      <th>N10_00013</th>\n",
       "      <td>17.00</td>\n",
       "    </tr>\n",
       "    <tr>\n",
       "      <th>N10_00015</th>\n",
       "      <td>19.00</td>\n",
       "    </tr>\n",
       "    <tr>\n",
       "      <th>N10_00017</th>\n",
       "      <td>21.00</td>\n",
       "    </tr>\n",
       "    <tr>\n",
       "      <th>N10_00019</th>\n",
       "      <td>23.00</td>\n",
       "    </tr>\n",
       "    <tr>\n",
       "      <th>N10_00021</th>\n",
       "      <td>25.00</td>\n",
       "    </tr>\n",
       "    <tr>\n",
       "      <th>N10_00041</th>\n",
       "      <td>45.00</td>\n",
       "    </tr>\n",
       "    <tr>\n",
       "      <th>N10_00043</th>\n",
       "      <td>47.00</td>\n",
       "    </tr>\n",
       "    <tr>\n",
       "      <th>N10_00045</th>\n",
       "      <td>49.00</td>\n",
       "    </tr>\n",
       "    <tr>\n",
       "      <th>N10_00047</th>\n",
       "      <td>51.00</td>\n",
       "    </tr>\n",
       "    <tr>\n",
       "      <th>N10_00049</th>\n",
       "      <td>53.00</td>\n",
       "    </tr>\n",
       "    <tr>\n",
       "      <th>N10_00051</th>\n",
       "      <td>55.00</td>\n",
       "    </tr>\n",
       "    <tr>\n",
       "      <th>N10_00053</th>\n",
       "      <td>57.00</td>\n",
       "    </tr>\n",
       "    <tr>\n",
       "      <th>N10_00055</th>\n",
       "      <td>59.00</td>\n",
       "    </tr>\n",
       "    <tr>\n",
       "      <th>N10_00057</th>\n",
       "      <td>61.00</td>\n",
       "    </tr>\n",
       "    <tr>\n",
       "      <th>N10_00059</th>\n",
       "      <td>63.00</td>\n",
       "    </tr>\n",
       "    <tr>\n",
       "      <th>N10_00061</th>\n",
       "      <td>65.00</td>\n",
       "    </tr>\n",
       "    <tr>\n",
       "      <th>N10_00063</th>\n",
       "      <td>67.00</td>\n",
       "    </tr>\n",
       "    <tr>\n",
       "      <th>N10_00065</th>\n",
       "      <td>69.00</td>\n",
       "    </tr>\n",
       "    <tr>\n",
       "      <th>N10_00067</th>\n",
       "      <td>71.00</td>\n",
       "    </tr>\n",
       "    <tr>\n",
       "      <th>N10_00069</th>\n",
       "      <td>73.00</td>\n",
       "    </tr>\n",
       "    <tr>\n",
       "      <th>N10_00071</th>\n",
       "      <td>75.00</td>\n",
       "    </tr>\n",
       "    <tr>\n",
       "      <th>N10_00073</th>\n",
       "      <td>77.00</td>\n",
       "    </tr>\n",
       "    <tr>\n",
       "      <th>N10_00075</th>\n",
       "      <td>79.00</td>\n",
       "    </tr>\n",
       "    <tr>\n",
       "      <th>N10_00077</th>\n",
       "      <td>81.00</td>\n",
       "    </tr>\n",
       "    <tr>\n",
       "      <th>...</th>\n",
       "      <td>...</td>\n",
       "    </tr>\n",
       "    <tr>\n",
       "      <th>W6_01790</th>\n",
       "      <td>944.04</td>\n",
       "    </tr>\n",
       "    <tr>\n",
       "      <th>W6_01792</th>\n",
       "      <td>946.04</td>\n",
       "    </tr>\n",
       "    <tr>\n",
       "      <th>W6_01794</th>\n",
       "      <td>948.04</td>\n",
       "    </tr>\n",
       "    <tr>\n",
       "      <th>W6_01796</th>\n",
       "      <td>950.04</td>\n",
       "    </tr>\n",
       "    <tr>\n",
       "      <th>W6_01798</th>\n",
       "      <td>952.04</td>\n",
       "    </tr>\n",
       "    <tr>\n",
       "      <th>W6_01800</th>\n",
       "      <td>954.04</td>\n",
       "    </tr>\n",
       "    <tr>\n",
       "      <th>W6_01802</th>\n",
       "      <td>956.04</td>\n",
       "    </tr>\n",
       "    <tr>\n",
       "      <th>W6_01804</th>\n",
       "      <td>958.04</td>\n",
       "    </tr>\n",
       "    <tr>\n",
       "      <th>W6_01806</th>\n",
       "      <td>960.04</td>\n",
       "    </tr>\n",
       "    <tr>\n",
       "      <th>W6_01808</th>\n",
       "      <td>962.04</td>\n",
       "    </tr>\n",
       "    <tr>\n",
       "      <th>W6_01810</th>\n",
       "      <td>964.04</td>\n",
       "    </tr>\n",
       "    <tr>\n",
       "      <th>W6_01812</th>\n",
       "      <td>966.04</td>\n",
       "    </tr>\n",
       "    <tr>\n",
       "      <th>W6_01814</th>\n",
       "      <td>968.04</td>\n",
       "    </tr>\n",
       "    <tr>\n",
       "      <th>W6_01816</th>\n",
       "      <td>970.04</td>\n",
       "    </tr>\n",
       "    <tr>\n",
       "      <th>W6_01818</th>\n",
       "      <td>972.04</td>\n",
       "    </tr>\n",
       "    <tr>\n",
       "      <th>W6_01820</th>\n",
       "      <td>974.04</td>\n",
       "    </tr>\n",
       "    <tr>\n",
       "      <th>W6_01822</th>\n",
       "      <td>976.04</td>\n",
       "    </tr>\n",
       "    <tr>\n",
       "      <th>W6_01824</th>\n",
       "      <td>978.04</td>\n",
       "    </tr>\n",
       "    <tr>\n",
       "      <th>W6_01826</th>\n",
       "      <td>980.04</td>\n",
       "    </tr>\n",
       "    <tr>\n",
       "      <th>W6_01828</th>\n",
       "      <td>982.04</td>\n",
       "    </tr>\n",
       "    <tr>\n",
       "      <th>W6_01830</th>\n",
       "      <td>984.04</td>\n",
       "    </tr>\n",
       "    <tr>\n",
       "      <th>W6_01832</th>\n",
       "      <td>986.04</td>\n",
       "    </tr>\n",
       "    <tr>\n",
       "      <th>W6_01834</th>\n",
       "      <td>988.04</td>\n",
       "    </tr>\n",
       "    <tr>\n",
       "      <th>W6_01836</th>\n",
       "      <td>990.04</td>\n",
       "    </tr>\n",
       "    <tr>\n",
       "      <th>W6_01838</th>\n",
       "      <td>992.04</td>\n",
       "    </tr>\n",
       "    <tr>\n",
       "      <th>W6_01840</th>\n",
       "      <td>994.04</td>\n",
       "    </tr>\n",
       "    <tr>\n",
       "      <th>W6_01842</th>\n",
       "      <td>996.04</td>\n",
       "    </tr>\n",
       "    <tr>\n",
       "      <th>W6_01844</th>\n",
       "      <td>998.04</td>\n",
       "    </tr>\n",
       "    <tr>\n",
       "      <th>W6_01846</th>\n",
       "      <td>1000.04</td>\n",
       "    </tr>\n",
       "    <tr>\n",
       "      <th>W6_01848</th>\n",
       "      <td>1002.04</td>\n",
       "    </tr>\n",
       "  </tbody>\n",
       "</table>\n",
       "<p>170437 rows × 1 columns</p>\n",
       "</div>"
      ],
      "text/plain": [
       "              original_depth_mm\n",
       "composite_id                   \n",
       "N10_00001                  5.00\n",
       "N10_00003                  7.00\n",
       "N10_00005                  9.00\n",
       "N10_00007                 11.00\n",
       "N10_00009                 13.00\n",
       "N10_00011                 15.00\n",
       "N10_00013                 17.00\n",
       "N10_00015                 19.00\n",
       "N10_00017                 21.00\n",
       "N10_00019                 23.00\n",
       "N10_00021                 25.00\n",
       "N10_00041                 45.00\n",
       "N10_00043                 47.00\n",
       "N10_00045                 49.00\n",
       "N10_00047                 51.00\n",
       "N10_00049                 53.00\n",
       "N10_00051                 55.00\n",
       "N10_00053                 57.00\n",
       "N10_00055                 59.00\n",
       "N10_00057                 61.00\n",
       "N10_00059                 63.00\n",
       "N10_00061                 65.00\n",
       "N10_00063                 67.00\n",
       "N10_00065                 69.00\n",
       "N10_00067                 71.00\n",
       "N10_00069                 73.00\n",
       "N10_00071                 75.00\n",
       "N10_00073                 77.00\n",
       "N10_00075                 79.00\n",
       "N10_00077                 81.00\n",
       "...                         ...\n",
       "W6_01790                 944.04\n",
       "W6_01792                 946.04\n",
       "W6_01794                 948.04\n",
       "W6_01796                 950.04\n",
       "W6_01798                 952.04\n",
       "W6_01800                 954.04\n",
       "W6_01802                 956.04\n",
       "W6_01804                 958.04\n",
       "W6_01806                 960.04\n",
       "W6_01808                 962.04\n",
       "W6_01810                 964.04\n",
       "W6_01812                 966.04\n",
       "W6_01814                 968.04\n",
       "W6_01816                 970.04\n",
       "W6_01818                 972.04\n",
       "W6_01820                 974.04\n",
       "W6_01822                 976.04\n",
       "W6_01824                 978.04\n",
       "W6_01826                 980.04\n",
       "W6_01828                 982.04\n",
       "W6_01830                 984.04\n",
       "W6_01832                 986.04\n",
       "W6_01834                 988.04\n",
       "W6_01836                 990.04\n",
       "W6_01838                 992.04\n",
       "W6_01840                 994.04\n",
       "W6_01842                 996.04\n",
       "W6_01844                 998.04\n",
       "W6_01846                1000.04\n",
       "W6_01848                1002.04\n",
       "\n",
       "[170437 rows x 1 columns]"
      ]
     },
     "execution_count": 4,
     "metadata": {},
     "output_type": "execute_result"
    }
   ],
   "source": [
    "original = pd.read_csv('database/info.cleaned.original_depth_mm.csv', index_col = 0)\n",
    "original"
   ]
  },
  {
   "cell_type": "code",
   "execution_count": 11,
   "metadata": {},
   "outputs": [],
   "source": [
    "section = original - 4\n",
    "section.columns = ['section_depth_mm']\n",
    "section.to_csv('database/info.cleaned.section_depth_mm.csv')"
   ]
  },
  {
   "cell_type": "markdown",
   "metadata": {},
   "source": [
    "# Delete one data point having negative section depth"
   ]
  },
  {
   "cell_type": "markdown",
   "metadata": {},
   "source": [
    "## read in datsets"
   ]
  },
  {
   "cell_type": "code",
   "execution_count": 2,
   "metadata": {},
   "outputs": [
    {
     "data": {
      "text/plain": [
       "(170437, 12)"
      ]
     },
     "execution_count": 2,
     "metadata": {},
     "output_type": "execute_result"
    }
   ],
   "source": [
    "info_df = pd.read_csv('database/info.cleaned.all.csv', index_col = 0)\n",
    "info_df.shape"
   ]
  },
  {
   "cell_type": "code",
   "execution_count": 7,
   "metadata": {},
   "outputs": [
    {
     "data": {
      "text/plain": [
       "(170437, 59)"
      ]
     },
     "execution_count": 7,
     "metadata": {},
     "output_type": "execute_result"
    }
   ],
   "source": [
    "result_df = pd.read_csv('database/XRF_results.cleaned.all.csv')\n",
    "result_df.index = info_df.index\n",
    "result_df.shape"
   ]
  },
  {
   "cell_type": "code",
   "execution_count": 8,
   "metadata": {},
   "outputs": [
    {
     "data": {
      "text/html": [
       "<div>\n",
       "<style scoped>\n",
       "    .dataframe tbody tr th:only-of-type {\n",
       "        vertical-align: middle;\n",
       "    }\n",
       "\n",
       "    .dataframe tbody tr th {\n",
       "        vertical-align: top;\n",
       "    }\n",
       "\n",
       "    .dataframe thead th {\n",
       "        text-align: right;\n",
       "    }\n",
       "</style>\n",
       "<table border=\"1\" class=\"dataframe\">\n",
       "  <thead>\n",
       "    <tr style=\"text-align: right;\">\n",
       "      <th></th>\n",
       "      <th>Al</th>\n",
       "      <th>Ar</th>\n",
       "      <th>As</th>\n",
       "      <th>Ba</th>\n",
       "      <th>Bi</th>\n",
       "      <th>Br</th>\n",
       "      <th>Ca</th>\n",
       "      <th>Ca_ka_Cr_ka</th>\n",
       "      <th>Ca_ka+_Ca__ka</th>\n",
       "      <th>Ca_ka+Ca_kb</th>\n",
       "      <th>...</th>\n",
       "      <th>W_la</th>\n",
       "      <th>W_lb1</th>\n",
       "      <th>W_lb2</th>\n",
       "      <th>Zn</th>\n",
       "      <th>Zr</th>\n",
       "      <th>cps</th>\n",
       "      <th>filename</th>\n",
       "      <th>position_mm</th>\n",
       "      <th>sample_surface</th>\n",
       "      <th>validity</th>\n",
       "    </tr>\n",
       "    <tr>\n",
       "      <th>composite_id</th>\n",
       "      <th></th>\n",
       "      <th></th>\n",
       "      <th></th>\n",
       "      <th></th>\n",
       "      <th></th>\n",
       "      <th></th>\n",
       "      <th></th>\n",
       "      <th></th>\n",
       "      <th></th>\n",
       "      <th></th>\n",
       "      <th></th>\n",
       "      <th></th>\n",
       "      <th></th>\n",
       "      <th></th>\n",
       "      <th></th>\n",
       "      <th></th>\n",
       "      <th></th>\n",
       "      <th></th>\n",
       "      <th></th>\n",
       "      <th></th>\n",
       "      <th></th>\n",
       "    </tr>\n",
       "  </thead>\n",
       "  <tbody>\n",
       "    <tr>\n",
       "      <th>N10_00001</th>\n",
       "      <td>42</td>\n",
       "      <td>798</td>\n",
       "      <td>59</td>\n",
       "      <td>130</td>\n",
       "      <td>63</td>\n",
       "      <td>8</td>\n",
       "      <td>6267</td>\n",
       "      <td>15</td>\n",
       "      <td>91</td>\n",
       "      <td>35</td>\n",
       "      <td>...</td>\n",
       "      <td>203</td>\n",
       "      <td>0</td>\n",
       "      <td>0</td>\n",
       "      <td>18</td>\n",
       "      <td>1270</td>\n",
       "      <td>23234</td>\n",
       "      <td>\\\\10.110.16.10\\GeopolarLabor\\#Projekte\\WASA\\XR...</td>\n",
       "      <td>5.0</td>\n",
       "      <td>5.89</td>\n",
       "      <td>1</td>\n",
       "    </tr>\n",
       "    <tr>\n",
       "      <th>N10_00003</th>\n",
       "      <td>55</td>\n",
       "      <td>775</td>\n",
       "      <td>0</td>\n",
       "      <td>149</td>\n",
       "      <td>31</td>\n",
       "      <td>0</td>\n",
       "      <td>6327</td>\n",
       "      <td>38</td>\n",
       "      <td>51</td>\n",
       "      <td>0</td>\n",
       "      <td>...</td>\n",
       "      <td>195</td>\n",
       "      <td>0</td>\n",
       "      <td>0</td>\n",
       "      <td>0</td>\n",
       "      <td>1549</td>\n",
       "      <td>26714</td>\n",
       "      <td>\\\\10.110.16.10\\GeopolarLabor\\#Projekte\\WASA\\XR...</td>\n",
       "      <td>7.0</td>\n",
       "      <td>5.96</td>\n",
       "      <td>1</td>\n",
       "    </tr>\n",
       "    <tr>\n",
       "      <th>N10_00005</th>\n",
       "      <td>63</td>\n",
       "      <td>613</td>\n",
       "      <td>0</td>\n",
       "      <td>125</td>\n",
       "      <td>25</td>\n",
       "      <td>8</td>\n",
       "      <td>7200</td>\n",
       "      <td>0</td>\n",
       "      <td>123</td>\n",
       "      <td>0</td>\n",
       "      <td>...</td>\n",
       "      <td>55</td>\n",
       "      <td>93</td>\n",
       "      <td>51</td>\n",
       "      <td>8</td>\n",
       "      <td>1369</td>\n",
       "      <td>26761</td>\n",
       "      <td>\\\\10.110.16.10\\GeopolarLabor\\#Projekte\\WASA\\XR...</td>\n",
       "      <td>9.0</td>\n",
       "      <td>5.88</td>\n",
       "      <td>1</td>\n",
       "    </tr>\n",
       "    <tr>\n",
       "      <th>N10_00007</th>\n",
       "      <td>46</td>\n",
       "      <td>729</td>\n",
       "      <td>20</td>\n",
       "      <td>102</td>\n",
       "      <td>46</td>\n",
       "      <td>11</td>\n",
       "      <td>5992</td>\n",
       "      <td>0</td>\n",
       "      <td>61</td>\n",
       "      <td>0</td>\n",
       "      <td>...</td>\n",
       "      <td>148</td>\n",
       "      <td>0</td>\n",
       "      <td>4</td>\n",
       "      <td>14</td>\n",
       "      <td>1199</td>\n",
       "      <td>25705</td>\n",
       "      <td>\\\\10.110.16.10\\GeopolarLabor\\#Projekte\\WASA\\XR...</td>\n",
       "      <td>11.0</td>\n",
       "      <td>5.91</td>\n",
       "      <td>1</td>\n",
       "    </tr>\n",
       "    <tr>\n",
       "      <th>N10_00009</th>\n",
       "      <td>52</td>\n",
       "      <td>728</td>\n",
       "      <td>84</td>\n",
       "      <td>127</td>\n",
       "      <td>28</td>\n",
       "      <td>0</td>\n",
       "      <td>10409</td>\n",
       "      <td>0</td>\n",
       "      <td>135</td>\n",
       "      <td>27</td>\n",
       "      <td>...</td>\n",
       "      <td>233</td>\n",
       "      <td>204</td>\n",
       "      <td>62</td>\n",
       "      <td>15</td>\n",
       "      <td>968</td>\n",
       "      <td>27081</td>\n",
       "      <td>\\\\10.110.16.10\\GeopolarLabor\\#Projekte\\WASA\\XR...</td>\n",
       "      <td>13.0</td>\n",
       "      <td>5.94</td>\n",
       "      <td>1</td>\n",
       "    </tr>\n",
       "  </tbody>\n",
       "</table>\n",
       "<p>5 rows × 59 columns</p>\n",
       "</div>"
      ],
      "text/plain": [
       "              Al   Ar  As   Ba  Bi  Br     Ca  Ca_ka_Cr_ka  Ca_ka+_Ca__ka  \\\n",
       "composite_id                                                                \n",
       "N10_00001     42  798  59  130  63   8   6267           15             91   \n",
       "N10_00003     55  775   0  149  31   0   6327           38             51   \n",
       "N10_00005     63  613   0  125  25   8   7200            0            123   \n",
       "N10_00007     46  729  20  102  46  11   5992            0             61   \n",
       "N10_00009     52  728  84  127  28   0  10409            0            135   \n",
       "\n",
       "              Ca_ka+Ca_kb    ...     W_la  W_lb1  W_lb2  Zn    Zr    cps  \\\n",
       "composite_id                 ...                                           \n",
       "N10_00001              35    ...      203      0      0  18  1270  23234   \n",
       "N10_00003               0    ...      195      0      0   0  1549  26714   \n",
       "N10_00005               0    ...       55     93     51   8  1369  26761   \n",
       "N10_00007               0    ...      148      0      4  14  1199  25705   \n",
       "N10_00009              27    ...      233    204     62  15   968  27081   \n",
       "\n",
       "                                                       filename  position_mm  \\\n",
       "composite_id                                                                   \n",
       "N10_00001     \\\\10.110.16.10\\GeopolarLabor\\#Projekte\\WASA\\XR...          5.0   \n",
       "N10_00003     \\\\10.110.16.10\\GeopolarLabor\\#Projekte\\WASA\\XR...          7.0   \n",
       "N10_00005     \\\\10.110.16.10\\GeopolarLabor\\#Projekte\\WASA\\XR...          9.0   \n",
       "N10_00007     \\\\10.110.16.10\\GeopolarLabor\\#Projekte\\WASA\\XR...         11.0   \n",
       "N10_00009     \\\\10.110.16.10\\GeopolarLabor\\#Projekte\\WASA\\XR...         13.0   \n",
       "\n",
       "              sample_surface  validity  \n",
       "composite_id                            \n",
       "N10_00001               5.89         1  \n",
       "N10_00003               5.96         1  \n",
       "N10_00005               5.88         1  \n",
       "N10_00007               5.91         1  \n",
       "N10_00009               5.94         1  \n",
       "\n",
       "[5 rows x 59 columns]"
      ]
     },
     "execution_count": 8,
     "metadata": {},
     "output_type": "execute_result"
    }
   ],
   "source": [
    "result_df.head()"
   ]
  },
  {
   "cell_type": "markdown",
   "metadata": {},
   "source": [
    "## exclude the rows based on id"
   ]
  },
  {
   "cell_type": "code",
   "execution_count": 18,
   "metadata": {},
   "outputs": [
    {
     "name": "stdout",
     "output_type": "stream",
     "text": [
      "(170436, 12)\n",
      "(170436, 59)\n"
     ]
    }
   ],
   "source": [
    "exclude_id = ['N49_01409']\n",
    "\n",
    "info_df = info_df[~info_df.index.isin(exclude_id)]\n",
    "result_df = result_df[~result_df.index.isin(exclude_id)]\n",
    "\n",
    "print(info_df.shape)\n",
    "print(result_df.shape)"
   ]
  },
  {
   "cell_type": "markdown",
   "metadata": {},
   "source": [
    "## output updated datasets"
   ]
  },
  {
   "cell_type": "code",
   "execution_count": 20,
   "metadata": {},
   "outputs": [],
   "source": [
    "info_df.to_csv('database/info.cleaned.all.csv')\n",
    "result_df.to_csv('database/XRF_results.cleaned.all.csv')\n",
    "\n",
    "for col in info_df.columns:\n",
    "    info_df[col].to_csv('database/info.cleaned.{}.csv'.format(col), header = col)\n",
    "    \n",
    "for col in result_df.columns:\n",
    "    result_df[col].to_csv('database/XRF_results.cleaned.{}.csv'.format(col), header = col)"
   ]
  },
  {
   "cell_type": "markdown",
   "metadata": {},
   "source": [
    "# Check XRF setting and update the spe dataset\n",
    "Make sure all XRF are scanned in 30 kV and 45 mA setting. Also check if the tube is Cr although the data points aren't scanned by Cr should be excluded by previous filtering."
   ]
  },
  {
   "cell_type": "code",
   "execution_count": 41,
   "metadata": {},
   "outputs": [
    {
     "data": {
      "text/plain": [
       "composite_id\n",
       "N10_00001    \\\\10.110.16.10\\GeopolarLabor\\#Projekte\\WASA\\XR...\n",
       "N10_00003    \\\\10.110.16.10\\GeopolarLabor\\#Projekte\\WASA\\XR...\n",
       "N10_00005    \\\\10.110.16.10\\GeopolarLabor\\#Projekte\\WASA\\XR...\n",
       "N10_00007    \\\\10.110.16.10\\GeopolarLabor\\#Projekte\\WASA\\XR...\n",
       "N10_00009    \\\\10.110.16.10\\GeopolarLabor\\#Projekte\\WASA\\XR...\n",
       "Name: composite_spe_dir, dtype: object"
      ]
     },
     "execution_count": 41,
     "metadata": {},
     "output_type": "execute_result"
    }
   ],
   "source": [
    "info_spe_dir = pd.read_csv('database\\\\info.cleaned.composite_spe_dir.csv', squeeze = True, index_col = 0)\n",
    "info_spe_dir.head()"
   ]
  },
  {
   "cell_type": "code",
   "execution_count": 62,
   "metadata": {},
   "outputs": [],
   "source": [
    "for doc in info_spe_dir[::50]:      # I won't check every spectrum because the same section should use same setting\n",
    "    with open(doc, 'r') as f:\n",
    "        lines = f.readlines()\n",
    "        tube = lines[10].split()[2]\n",
    "        vol = lines[11].split()[2]\n",
    "        cur = lines[12].split()[2]\n",
    "        if (tube != 'Cr') or (vol != '30') or (cur != '45'):\n",
    "            print(doc.split('\\\\')[-1][:-11])"
   ]
  },
  {
   "cell_type": "markdown",
   "metadata": {},
   "source": [
    "Nice!!! The latest cleaned XRF data are all produced by the same setting (30 kV & 45 mA) and the Cr tube."
   ]
  },
  {
   "cell_type": "markdown",
   "metadata": {},
   "source": [
    "## rebuild the spe using the latest composite_id\n",
    "According to the last script that updated the spe in database, construct_database_20190502.py, the spe data was asopted from data_composite\\\\WASA_all_xrf_spe_20190405.csv' and the spe was filtered by the composite_spe_dir from info.cleaned.composite_spe_dir.csv."
   ]
  },
  {
   "cell_type": "code",
   "execution_count": 41,
   "metadata": {},
   "outputs": [
    {
     "data": {
      "text/plain": [
       "composite_id\n",
       "N10_00001    \\\\10.110.16.10\\GeopolarLabor\\#Projekte\\WASA\\XR...\n",
       "N10_00003    \\\\10.110.16.10\\GeopolarLabor\\#Projekte\\WASA\\XR...\n",
       "N10_00005    \\\\10.110.16.10\\GeopolarLabor\\#Projekte\\WASA\\XR...\n",
       "N10_00007    \\\\10.110.16.10\\GeopolarLabor\\#Projekte\\WASA\\XR...\n",
       "N10_00009    \\\\10.110.16.10\\GeopolarLabor\\#Projekte\\WASA\\XR...\n",
       "Name: composite_spe_dir, dtype: object"
      ]
     },
     "execution_count": 41,
     "metadata": {},
     "output_type": "execute_result"
    }
   ],
   "source": [
    "info_spe_dir = pd.read_csv('..\\\\..\\\\database\\\\info.cleaned.composite_spe_dir.csv', squeeze = True, index_col = 0)\n",
    "info_spe_dir.head()"
   ]
  },
  {
   "cell_type": "code",
   "execution_count": 35,
   "metadata": {},
   "outputs": [
    {
     "data": {
      "text/plain": [
       "170436"
      ]
     },
     "execution_count": 35,
     "metadata": {},
     "output_type": "execute_result"
    }
   ],
   "source": [
    "len(info_spe_dir)"
   ]
  },
  {
   "cell_type": "markdown",
   "metadata": {},
   "source": [
    "Clearly the info_spe_dir has been updated to the latest version."
   ]
  },
  {
   "cell_type": "code",
   "execution_count": 39,
   "metadata": {},
   "outputs": [
    {
     "data": {
      "text/html": [
       "<div>\n",
       "<style scoped>\n",
       "    .dataframe tbody tr th:only-of-type {\n",
       "        vertical-align: middle;\n",
       "    }\n",
       "\n",
       "    .dataframe tbody tr th {\n",
       "        vertical-align: top;\n",
       "    }\n",
       "\n",
       "    .dataframe thead th {\n",
       "        text-align: right;\n",
       "    }\n",
       "</style>\n",
       "<table border=\"1\" class=\"dataframe\">\n",
       "  <thead>\n",
       "    <tr style=\"text-align: right;\">\n",
       "      <th></th>\n",
       "      <th>1</th>\n",
       "      <th>2</th>\n",
       "      <th>3</th>\n",
       "      <th>4</th>\n",
       "      <th>5</th>\n",
       "      <th>6</th>\n",
       "      <th>7</th>\n",
       "      <th>8</th>\n",
       "      <th>9</th>\n",
       "      <th>10</th>\n",
       "      <th>...</th>\n",
       "      <th>1017</th>\n",
       "      <th>1018</th>\n",
       "      <th>1019</th>\n",
       "      <th>1020</th>\n",
       "      <th>1021</th>\n",
       "      <th>1022</th>\n",
       "      <th>1023</th>\n",
       "      <th>1024</th>\n",
       "      <th>spe_dir</th>\n",
       "      <th>core_ID</th>\n",
       "    </tr>\n",
       "  </thead>\n",
       "  <tbody>\n",
       "    <tr>\n",
       "      <th>0</th>\n",
       "      <td>0</td>\n",
       "      <td>0</td>\n",
       "      <td>0</td>\n",
       "      <td>0</td>\n",
       "      <td>0</td>\n",
       "      <td>0</td>\n",
       "      <td>0</td>\n",
       "      <td>0</td>\n",
       "      <td>0</td>\n",
       "      <td>0</td>\n",
       "      <td>...</td>\n",
       "      <td>83</td>\n",
       "      <td>84</td>\n",
       "      <td>100</td>\n",
       "      <td>81</td>\n",
       "      <td>77</td>\n",
       "      <td>90</td>\n",
       "      <td>74</td>\n",
       "      <td>2</td>\n",
       "      <td>\\\\10.110.16.10\\GeopolarLabor\\#Projekte\\WASA\\XR...</td>\n",
       "      <td>N10</td>\n",
       "    </tr>\n",
       "    <tr>\n",
       "      <th>1</th>\n",
       "      <td>0</td>\n",
       "      <td>0</td>\n",
       "      <td>0</td>\n",
       "      <td>0</td>\n",
       "      <td>0</td>\n",
       "      <td>0</td>\n",
       "      <td>0</td>\n",
       "      <td>0</td>\n",
       "      <td>0</td>\n",
       "      <td>0</td>\n",
       "      <td>...</td>\n",
       "      <td>92</td>\n",
       "      <td>77</td>\n",
       "      <td>87</td>\n",
       "      <td>102</td>\n",
       "      <td>97</td>\n",
       "      <td>83</td>\n",
       "      <td>85</td>\n",
       "      <td>10</td>\n",
       "      <td>\\\\10.110.16.10\\GeopolarLabor\\#Projekte\\WASA\\XR...</td>\n",
       "      <td>N10</td>\n",
       "    </tr>\n",
       "    <tr>\n",
       "      <th>2</th>\n",
       "      <td>0</td>\n",
       "      <td>0</td>\n",
       "      <td>0</td>\n",
       "      <td>0</td>\n",
       "      <td>0</td>\n",
       "      <td>0</td>\n",
       "      <td>0</td>\n",
       "      <td>0</td>\n",
       "      <td>0</td>\n",
       "      <td>0</td>\n",
       "      <td>...</td>\n",
       "      <td>84</td>\n",
       "      <td>68</td>\n",
       "      <td>96</td>\n",
       "      <td>80</td>\n",
       "      <td>72</td>\n",
       "      <td>73</td>\n",
       "      <td>92</td>\n",
       "      <td>23</td>\n",
       "      <td>\\\\10.110.16.10\\GeopolarLabor\\#Projekte\\WASA\\XR...</td>\n",
       "      <td>N10</td>\n",
       "    </tr>\n",
       "    <tr>\n",
       "      <th>3</th>\n",
       "      <td>0</td>\n",
       "      <td>0</td>\n",
       "      <td>0</td>\n",
       "      <td>0</td>\n",
       "      <td>0</td>\n",
       "      <td>0</td>\n",
       "      <td>0</td>\n",
       "      <td>0</td>\n",
       "      <td>0</td>\n",
       "      <td>0</td>\n",
       "      <td>...</td>\n",
       "      <td>98</td>\n",
       "      <td>84</td>\n",
       "      <td>82</td>\n",
       "      <td>81</td>\n",
       "      <td>99</td>\n",
       "      <td>80</td>\n",
       "      <td>100</td>\n",
       "      <td>26</td>\n",
       "      <td>\\\\10.110.16.10\\GeopolarLabor\\#Projekte\\WASA\\XR...</td>\n",
       "      <td>N10</td>\n",
       "    </tr>\n",
       "    <tr>\n",
       "      <th>4</th>\n",
       "      <td>0</td>\n",
       "      <td>0</td>\n",
       "      <td>0</td>\n",
       "      <td>0</td>\n",
       "      <td>0</td>\n",
       "      <td>0</td>\n",
       "      <td>0</td>\n",
       "      <td>0</td>\n",
       "      <td>0</td>\n",
       "      <td>0</td>\n",
       "      <td>...</td>\n",
       "      <td>80</td>\n",
       "      <td>76</td>\n",
       "      <td>95</td>\n",
       "      <td>81</td>\n",
       "      <td>82</td>\n",
       "      <td>76</td>\n",
       "      <td>85</td>\n",
       "      <td>12</td>\n",
       "      <td>\\\\10.110.16.10\\GeopolarLabor\\#Projekte\\WASA\\XR...</td>\n",
       "      <td>N10</td>\n",
       "    </tr>\n",
       "  </tbody>\n",
       "</table>\n",
       "<p>5 rows × 1026 columns</p>\n",
       "</div>"
      ],
      "text/plain": [
       "   1  2  3  4  5  6  7  8  9  10  ...  1017  1018  1019  1020  1021  1022  \\\n",
       "0  0  0  0  0  0  0  0  0  0   0  ...    83    84   100    81    77    90   \n",
       "1  0  0  0  0  0  0  0  0  0   0  ...    92    77    87   102    97    83   \n",
       "2  0  0  0  0  0  0  0  0  0   0  ...    84    68    96    80    72    73   \n",
       "3  0  0  0  0  0  0  0  0  0   0  ...    98    84    82    81    99    80   \n",
       "4  0  0  0  0  0  0  0  0  0   0  ...    80    76    95    81    82    76   \n",
       "\n",
       "   1023  1024                                            spe_dir  core_ID  \n",
       "0    74     2  \\\\10.110.16.10\\GeopolarLabor\\#Projekte\\WASA\\XR...      N10  \n",
       "1    85    10  \\\\10.110.16.10\\GeopolarLabor\\#Projekte\\WASA\\XR...      N10  \n",
       "2    92    23  \\\\10.110.16.10\\GeopolarLabor\\#Projekte\\WASA\\XR...      N10  \n",
       "3   100    26  \\\\10.110.16.10\\GeopolarLabor\\#Projekte\\WASA\\XR...      N10  \n",
       "4    85    12  \\\\10.110.16.10\\GeopolarLabor\\#Projekte\\WASA\\XR...      N10  \n",
       "\n",
       "[5 rows x 1026 columns]"
      ]
     },
     "execution_count": 39,
     "metadata": {},
     "output_type": "execute_result"
    }
   ],
   "source": [
    "spe_df = pd.read_csv('WASA_all_xrf_spe_20190405.csv')\n",
    "spe_df.head()"
   ]
  },
  {
   "cell_type": "code",
   "execution_count": 36,
   "metadata": {},
   "outputs": [
    {
     "data": {
      "text/plain": [
       "(173713, 1026)"
      ]
     },
     "execution_count": 36,
     "metadata": {},
     "output_type": "execute_result"
    }
   ],
   "source": [
    "spe_df.shape"
   ]
  },
  {
   "cell_type": "code",
   "execution_count": 42,
   "metadata": {},
   "outputs": [
    {
     "data": {
      "text/html": [
       "<div>\n",
       "<style scoped>\n",
       "    .dataframe tbody tr th:only-of-type {\n",
       "        vertical-align: middle;\n",
       "    }\n",
       "\n",
       "    .dataframe tbody tr th {\n",
       "        vertical-align: top;\n",
       "    }\n",
       "\n",
       "    .dataframe thead th {\n",
       "        text-align: right;\n",
       "    }\n",
       "</style>\n",
       "<table border=\"1\" class=\"dataframe\">\n",
       "  <thead>\n",
       "    <tr style=\"text-align: right;\">\n",
       "      <th></th>\n",
       "      <th>1</th>\n",
       "      <th>2</th>\n",
       "      <th>3</th>\n",
       "      <th>4</th>\n",
       "      <th>5</th>\n",
       "      <th>6</th>\n",
       "      <th>7</th>\n",
       "      <th>8</th>\n",
       "      <th>9</th>\n",
       "      <th>10</th>\n",
       "      <th>...</th>\n",
       "      <th>1017</th>\n",
       "      <th>1018</th>\n",
       "      <th>1019</th>\n",
       "      <th>1020</th>\n",
       "      <th>1021</th>\n",
       "      <th>1022</th>\n",
       "      <th>1023</th>\n",
       "      <th>1024</th>\n",
       "      <th>spe_dir</th>\n",
       "      <th>core_ID</th>\n",
       "    </tr>\n",
       "  </thead>\n",
       "  <tbody>\n",
       "    <tr>\n",
       "      <th>0</th>\n",
       "      <td>0</td>\n",
       "      <td>0</td>\n",
       "      <td>0</td>\n",
       "      <td>0</td>\n",
       "      <td>0</td>\n",
       "      <td>0</td>\n",
       "      <td>0</td>\n",
       "      <td>0</td>\n",
       "      <td>0</td>\n",
       "      <td>0</td>\n",
       "      <td>...</td>\n",
       "      <td>83</td>\n",
       "      <td>84</td>\n",
       "      <td>100</td>\n",
       "      <td>81</td>\n",
       "      <td>77</td>\n",
       "      <td>90</td>\n",
       "      <td>74</td>\n",
       "      <td>2</td>\n",
       "      <td>\\\\10.110.16.10\\GeopolarLabor\\#Projekte\\WASA\\XR...</td>\n",
       "      <td>N10</td>\n",
       "    </tr>\n",
       "    <tr>\n",
       "      <th>1</th>\n",
       "      <td>0</td>\n",
       "      <td>0</td>\n",
       "      <td>0</td>\n",
       "      <td>0</td>\n",
       "      <td>0</td>\n",
       "      <td>0</td>\n",
       "      <td>0</td>\n",
       "      <td>0</td>\n",
       "      <td>0</td>\n",
       "      <td>0</td>\n",
       "      <td>...</td>\n",
       "      <td>92</td>\n",
       "      <td>77</td>\n",
       "      <td>87</td>\n",
       "      <td>102</td>\n",
       "      <td>97</td>\n",
       "      <td>83</td>\n",
       "      <td>85</td>\n",
       "      <td>10</td>\n",
       "      <td>\\\\10.110.16.10\\GeopolarLabor\\#Projekte\\WASA\\XR...</td>\n",
       "      <td>N10</td>\n",
       "    </tr>\n",
       "    <tr>\n",
       "      <th>2</th>\n",
       "      <td>0</td>\n",
       "      <td>0</td>\n",
       "      <td>0</td>\n",
       "      <td>0</td>\n",
       "      <td>0</td>\n",
       "      <td>0</td>\n",
       "      <td>0</td>\n",
       "      <td>0</td>\n",
       "      <td>0</td>\n",
       "      <td>0</td>\n",
       "      <td>...</td>\n",
       "      <td>84</td>\n",
       "      <td>68</td>\n",
       "      <td>96</td>\n",
       "      <td>80</td>\n",
       "      <td>72</td>\n",
       "      <td>73</td>\n",
       "      <td>92</td>\n",
       "      <td>23</td>\n",
       "      <td>\\\\10.110.16.10\\GeopolarLabor\\#Projekte\\WASA\\XR...</td>\n",
       "      <td>N10</td>\n",
       "    </tr>\n",
       "    <tr>\n",
       "      <th>3</th>\n",
       "      <td>0</td>\n",
       "      <td>0</td>\n",
       "      <td>0</td>\n",
       "      <td>0</td>\n",
       "      <td>0</td>\n",
       "      <td>0</td>\n",
       "      <td>0</td>\n",
       "      <td>0</td>\n",
       "      <td>0</td>\n",
       "      <td>0</td>\n",
       "      <td>...</td>\n",
       "      <td>98</td>\n",
       "      <td>84</td>\n",
       "      <td>82</td>\n",
       "      <td>81</td>\n",
       "      <td>99</td>\n",
       "      <td>80</td>\n",
       "      <td>100</td>\n",
       "      <td>26</td>\n",
       "      <td>\\\\10.110.16.10\\GeopolarLabor\\#Projekte\\WASA\\XR...</td>\n",
       "      <td>N10</td>\n",
       "    </tr>\n",
       "    <tr>\n",
       "      <th>4</th>\n",
       "      <td>0</td>\n",
       "      <td>0</td>\n",
       "      <td>0</td>\n",
       "      <td>0</td>\n",
       "      <td>0</td>\n",
       "      <td>0</td>\n",
       "      <td>0</td>\n",
       "      <td>0</td>\n",
       "      <td>0</td>\n",
       "      <td>0</td>\n",
       "      <td>...</td>\n",
       "      <td>80</td>\n",
       "      <td>76</td>\n",
       "      <td>95</td>\n",
       "      <td>81</td>\n",
       "      <td>82</td>\n",
       "      <td>76</td>\n",
       "      <td>85</td>\n",
       "      <td>12</td>\n",
       "      <td>\\\\10.110.16.10\\GeopolarLabor\\#Projekte\\WASA\\XR...</td>\n",
       "      <td>N10</td>\n",
       "    </tr>\n",
       "  </tbody>\n",
       "</table>\n",
       "<p>5 rows × 1026 columns</p>\n",
       "</div>"
      ],
      "text/plain": [
       "   1  2  3  4  5  6  7  8  9  10  ...  1017  1018  1019  1020  1021  1022  \\\n",
       "0  0  0  0  0  0  0  0  0  0   0  ...    83    84   100    81    77    90   \n",
       "1  0  0  0  0  0  0  0  0  0   0  ...    92    77    87   102    97    83   \n",
       "2  0  0  0  0  0  0  0  0  0   0  ...    84    68    96    80    72    73   \n",
       "3  0  0  0  0  0  0  0  0  0   0  ...    98    84    82    81    99    80   \n",
       "4  0  0  0  0  0  0  0  0  0   0  ...    80    76    95    81    82    76   \n",
       "\n",
       "   1023  1024                                            spe_dir  core_ID  \n",
       "0    74     2  \\\\10.110.16.10\\GeopolarLabor\\#Projekte\\WASA\\XR...      N10  \n",
       "1    85    10  \\\\10.110.16.10\\GeopolarLabor\\#Projekte\\WASA\\XR...      N10  \n",
       "2    92    23  \\\\10.110.16.10\\GeopolarLabor\\#Projekte\\WASA\\XR...      N10  \n",
       "3   100    26  \\\\10.110.16.10\\GeopolarLabor\\#Projekte\\WASA\\XR...      N10  \n",
       "4    85    12  \\\\10.110.16.10\\GeopolarLabor\\#Projekte\\WASA\\XR...      N10  \n",
       "\n",
       "[5 rows x 1026 columns]"
      ]
     },
     "execution_count": 42,
     "metadata": {},
     "output_type": "execute_result"
    }
   ],
   "source": [
    "spe_df[spe_df.spe_dir.isin(info_spe_dir)].head()"
   ]
  },
  {
   "cell_type": "code",
   "execution_count": 43,
   "metadata": {},
   "outputs": [
    {
     "data": {
      "text/plain": [
       "(170436, 1024)"
      ]
     },
     "execution_count": 43,
     "metadata": {},
     "output_type": "execute_result"
    }
   ],
   "source": [
    "spe_up = spe_df[spe_df.spe_dir.isin(info_spe_dir)].iloc[:, :-2]\n",
    "spe_up.index = info_spe_dir.index\n",
    "spe_up.shape"
   ]
  },
  {
   "cell_type": "markdown",
   "metadata": {},
   "source": [
    "The spe dataset is asigned by the composite_id, which is more convenient for futher arrangement."
   ]
  },
  {
   "cell_type": "markdown",
   "metadata": {},
   "source": [
    "## Export the spe"
   ]
  },
  {
   "cell_type": "code",
   "execution_count": 52,
   "metadata": {},
   "outputs": [],
   "source": [
    "spe_up.to_csv('database\\\\XRF_spe.cleaned.all.csv')"
   ]
  },
  {
   "cell_type": "markdown",
   "metadata": {},
   "source": [
    "# Find section depth odds\n",
    "Accidently, I found that the first section, i.e. the bottom section, has the section depth same as composite depth. I don't know when it goes wrong..."
   ]
  },
  {
   "cell_type": "code",
   "execution_count": 1,
   "metadata": {},
   "outputs": [],
   "source": [
    "import numpy as np \n",
    "import pandas as pd\n",
    "\n",
    "import datetime\n",
    "date = datetime.datetime.now().strftime('%Y%m%d')"
   ]
  },
  {
   "cell_type": "code",
   "execution_count": 2,
   "metadata": {},
   "outputs": [],
   "source": [
    "info_df = pd.read_csv('data/info.cleaned.all.csv', index_col=0)"
   ]
  },
  {
   "cell_type": "code",
   "execution_count": 75,
   "metadata": {},
   "outputs": [],
   "source": [
    "info_df.loc[info_df.core_id == 'N70', ['core_section', 'section_depth_mm', 'composite_depth_mm']].to_csv('results/section_dpeth_bug_N70.csv')"
   ]
  },
  {
   "cell_type": "code",
   "execution_count": 3,
   "metadata": {},
   "outputs": [
    {
     "data": {
      "text/html": [
       "<div>\n",
       "<style scoped>\n",
       "    .dataframe tbody tr th:only-of-type {\n",
       "        vertical-align: middle;\n",
       "    }\n",
       "\n",
       "    .dataframe tbody tr th {\n",
       "        vertical-align: top;\n",
       "    }\n",
       "\n",
       "    .dataframe thead th {\n",
       "        text-align: right;\n",
       "    }\n",
       "</style>\n",
       "<table border=\"1\" class=\"dataframe\">\n",
       "  <thead>\n",
       "    <tr style=\"text-align: right;\">\n",
       "      <th></th>\n",
       "      <th>section_depth_mm</th>\n",
       "      <th>composite_depth_mm</th>\n",
       "      <th>original_depth_mm</th>\n",
       "    </tr>\n",
       "    <tr>\n",
       "      <th>composite_id</th>\n",
       "      <th></th>\n",
       "      <th></th>\n",
       "      <th></th>\n",
       "    </tr>\n",
       "  </thead>\n",
       "  <tbody>\n",
       "    <tr>\n",
       "      <th>N10_03442</th>\n",
       "      <td>3442.0</td>\n",
       "      <td>3442</td>\n",
       "      <td>6.0</td>\n",
       "    </tr>\n",
       "    <tr>\n",
       "      <th>N10_03444</th>\n",
       "      <td>3444.0</td>\n",
       "      <td>3444</td>\n",
       "      <td>8.0</td>\n",
       "    </tr>\n",
       "    <tr>\n",
       "      <th>N10_03446</th>\n",
       "      <td>3446.0</td>\n",
       "      <td>3446</td>\n",
       "      <td>10.0</td>\n",
       "    </tr>\n",
       "    <tr>\n",
       "      <th>N10_03448</th>\n",
       "      <td>3448.0</td>\n",
       "      <td>3448</td>\n",
       "      <td>12.0</td>\n",
       "    </tr>\n",
       "    <tr>\n",
       "      <th>N10_03450</th>\n",
       "      <td>3450.0</td>\n",
       "      <td>3450</td>\n",
       "      <td>14.0</td>\n",
       "    </tr>\n",
       "    <tr>\n",
       "      <th>...</th>\n",
       "      <td>...</td>\n",
       "      <td>...</td>\n",
       "      <td>...</td>\n",
       "    </tr>\n",
       "    <tr>\n",
       "      <th>N10_04494</th>\n",
       "      <td>4494.0</td>\n",
       "      <td>4494</td>\n",
       "      <td>1058.0</td>\n",
       "    </tr>\n",
       "    <tr>\n",
       "      <th>N10_04496</th>\n",
       "      <td>4496.0</td>\n",
       "      <td>4496</td>\n",
       "      <td>1060.0</td>\n",
       "    </tr>\n",
       "    <tr>\n",
       "      <th>N10_04498</th>\n",
       "      <td>4498.0</td>\n",
       "      <td>4498</td>\n",
       "      <td>1062.0</td>\n",
       "    </tr>\n",
       "    <tr>\n",
       "      <th>N10_04500</th>\n",
       "      <td>4500.0</td>\n",
       "      <td>4500</td>\n",
       "      <td>1064.0</td>\n",
       "    </tr>\n",
       "    <tr>\n",
       "      <th>N10_04502</th>\n",
       "      <td>4502.0</td>\n",
       "      <td>4502</td>\n",
       "      <td>1066.0</td>\n",
       "    </tr>\n",
       "  </tbody>\n",
       "</table>\n",
       "<p>522 rows × 3 columns</p>\n",
       "</div>"
      ],
      "text/plain": [
       "              section_depth_mm  composite_depth_mm  original_depth_mm\n",
       "composite_id                                                         \n",
       "N10_03442               3442.0                3442                6.0\n",
       "N10_03444               3444.0                3444                8.0\n",
       "N10_03446               3446.0                3446               10.0\n",
       "N10_03448               3448.0                3448               12.0\n",
       "N10_03450               3450.0                3450               14.0\n",
       "...                        ...                 ...                ...\n",
       "N10_04494               4494.0                4494             1058.0\n",
       "N10_04496               4496.0                4496             1060.0\n",
       "N10_04498               4498.0                4498             1062.0\n",
       "N10_04500               4500.0                4500             1064.0\n",
       "N10_04502               4502.0                4502             1066.0\n",
       "\n",
       "[522 rows x 3 columns]"
      ]
     },
     "execution_count": 3,
     "metadata": {},
     "output_type": "execute_result"
    }
   ],
   "source": [
    "info_df.loc[info_df.core_section == 'N10-1', ['section_depth_mm', 'composite_depth_mm', 'original_depth_mm']]"
   ]
  },
  {
   "cell_type": "markdown",
   "metadata": {},
   "source": [
    "After checking several cores, I think this bug happens in every cores."
   ]
  },
  {
   "cell_type": "code",
   "execution_count": 5,
   "metadata": {},
   "outputs": [],
   "source": [
    "section_depth = pd.read_csv('data/info.cleaned.section_depth_mm.csv', index_col=0)"
   ]
  },
  {
   "cell_type": "code",
   "execution_count": 6,
   "metadata": {},
   "outputs": [],
   "source": [
    "info_df = pd.concat([info_df, section_depth], axis=1, join='inner')"
   ]
  },
  {
   "cell_type": "code",
   "execution_count": 9,
   "metadata": {},
   "outputs": [],
   "source": [
    "info_df.columns = ['tidezone', 'composite_spe_dir', 'composite_depth_mm',\n",
    "       'original_depth_mm', 'core_id', 'data_original_dir', 'long_utm',\n",
    "       'core_section', 'lat_utm', 'depth_to_water_surface_mm',\n",
    "       'section_depth_mm', 'coring_date', 'section_depth_mm_out']"
   ]
  },
  {
   "cell_type": "code",
   "execution_count": 11,
   "metadata": {},
   "outputs": [
    {
     "data": {
      "text/html": [
       "<div>\n",
       "<style scoped>\n",
       "    .dataframe tbody tr th:only-of-type {\n",
       "        vertical-align: middle;\n",
       "    }\n",
       "\n",
       "    .dataframe tbody tr th {\n",
       "        vertical-align: top;\n",
       "    }\n",
       "\n",
       "    .dataframe thead th {\n",
       "        text-align: right;\n",
       "    }\n",
       "</style>\n",
       "<table border=\"1\" class=\"dataframe\">\n",
       "  <thead>\n",
       "    <tr style=\"text-align: right;\">\n",
       "      <th></th>\n",
       "      <th>section_depth_mm</th>\n",
       "      <th>composite_depth_mm</th>\n",
       "      <th>original_depth_mm</th>\n",
       "      <th>section_depth_mm_out</th>\n",
       "    </tr>\n",
       "    <tr>\n",
       "      <th>composite_id</th>\n",
       "      <th></th>\n",
       "      <th></th>\n",
       "      <th></th>\n",
       "      <th></th>\n",
       "    </tr>\n",
       "  </thead>\n",
       "  <tbody>\n",
       "    <tr>\n",
       "      <th>N10_03442</th>\n",
       "      <td>3442.0</td>\n",
       "      <td>3442</td>\n",
       "      <td>6.0</td>\n",
       "      <td>2.0</td>\n",
       "    </tr>\n",
       "    <tr>\n",
       "      <th>N10_03444</th>\n",
       "      <td>3444.0</td>\n",
       "      <td>3444</td>\n",
       "      <td>8.0</td>\n",
       "      <td>4.0</td>\n",
       "    </tr>\n",
       "    <tr>\n",
       "      <th>N10_03446</th>\n",
       "      <td>3446.0</td>\n",
       "      <td>3446</td>\n",
       "      <td>10.0</td>\n",
       "      <td>6.0</td>\n",
       "    </tr>\n",
       "    <tr>\n",
       "      <th>N10_03448</th>\n",
       "      <td>3448.0</td>\n",
       "      <td>3448</td>\n",
       "      <td>12.0</td>\n",
       "      <td>8.0</td>\n",
       "    </tr>\n",
       "    <tr>\n",
       "      <th>N10_03450</th>\n",
       "      <td>3450.0</td>\n",
       "      <td>3450</td>\n",
       "      <td>14.0</td>\n",
       "      <td>10.0</td>\n",
       "    </tr>\n",
       "    <tr>\n",
       "      <th>...</th>\n",
       "      <td>...</td>\n",
       "      <td>...</td>\n",
       "      <td>...</td>\n",
       "      <td>...</td>\n",
       "    </tr>\n",
       "    <tr>\n",
       "      <th>N10_04494</th>\n",
       "      <td>4494.0</td>\n",
       "      <td>4494</td>\n",
       "      <td>1058.0</td>\n",
       "      <td>1054.0</td>\n",
       "    </tr>\n",
       "    <tr>\n",
       "      <th>N10_04496</th>\n",
       "      <td>4496.0</td>\n",
       "      <td>4496</td>\n",
       "      <td>1060.0</td>\n",
       "      <td>1056.0</td>\n",
       "    </tr>\n",
       "    <tr>\n",
       "      <th>N10_04498</th>\n",
       "      <td>4498.0</td>\n",
       "      <td>4498</td>\n",
       "      <td>1062.0</td>\n",
       "      <td>1058.0</td>\n",
       "    </tr>\n",
       "    <tr>\n",
       "      <th>N10_04500</th>\n",
       "      <td>4500.0</td>\n",
       "      <td>4500</td>\n",
       "      <td>1064.0</td>\n",
       "      <td>1060.0</td>\n",
       "    </tr>\n",
       "    <tr>\n",
       "      <th>N10_04502</th>\n",
       "      <td>4502.0</td>\n",
       "      <td>4502</td>\n",
       "      <td>1066.0</td>\n",
       "      <td>1062.0</td>\n",
       "    </tr>\n",
       "  </tbody>\n",
       "</table>\n",
       "<p>522 rows × 4 columns</p>\n",
       "</div>"
      ],
      "text/plain": [
       "              section_depth_mm  composite_depth_mm  original_depth_mm  \\\n",
       "composite_id                                                            \n",
       "N10_03442               3442.0                3442                6.0   \n",
       "N10_03444               3444.0                3444                8.0   \n",
       "N10_03446               3446.0                3446               10.0   \n",
       "N10_03448               3448.0                3448               12.0   \n",
       "N10_03450               3450.0                3450               14.0   \n",
       "...                        ...                 ...                ...   \n",
       "N10_04494               4494.0                4494             1058.0   \n",
       "N10_04496               4496.0                4496             1060.0   \n",
       "N10_04498               4498.0                4498             1062.0   \n",
       "N10_04500               4500.0                4500             1064.0   \n",
       "N10_04502               4502.0                4502             1066.0   \n",
       "\n",
       "              section_depth_mm_out  \n",
       "composite_id                        \n",
       "N10_03442                      2.0  \n",
       "N10_03444                      4.0  \n",
       "N10_03446                      6.0  \n",
       "N10_03448                      8.0  \n",
       "N10_03450                     10.0  \n",
       "...                            ...  \n",
       "N10_04494                   1054.0  \n",
       "N10_04496                   1056.0  \n",
       "N10_04498                   1058.0  \n",
       "N10_04500                   1060.0  \n",
       "N10_04502                   1062.0  \n",
       "\n",
       "[522 rows x 4 columns]"
      ]
     },
     "execution_count": 11,
     "metadata": {},
     "output_type": "execute_result"
    }
   ],
   "source": [
    "info_df.loc[info_df.core_section == 'N10-1', ['section_depth_mm', 'composite_depth_mm', 'original_depth_mm','section_depth_mm_out']]"
   ]
  },
  {
   "cell_type": "markdown",
   "metadata": {},
   "source": [
    "According to the beforehand part, Update section depth, the modified and correct section depth, which exported as info.cleaned.section_depth_mm.csv is not updated into info.cleand.all.csv. I can only know at least from that updated version of section depth, this bug doesn't exist. I still don't know which code went wrong in the previous steps."
   ]
  },
  {
   "cell_type": "code",
   "execution_count": 12,
   "metadata": {},
   "outputs": [
    {
     "data": {
      "text/html": [
       "<div>\n",
       "<style scoped>\n",
       "    .dataframe tbody tr th:only-of-type {\n",
       "        vertical-align: middle;\n",
       "    }\n",
       "\n",
       "    .dataframe tbody tr th {\n",
       "        vertical-align: top;\n",
       "    }\n",
       "\n",
       "    .dataframe thead th {\n",
       "        text-align: right;\n",
       "    }\n",
       "</style>\n",
       "<table border=\"1\" class=\"dataframe\">\n",
       "  <thead>\n",
       "    <tr style=\"text-align: right;\">\n",
       "      <th></th>\n",
       "      <th>tidezone</th>\n",
       "      <th>composite_spe_dir</th>\n",
       "      <th>composite_depth_mm</th>\n",
       "      <th>original_depth_mm</th>\n",
       "      <th>core_id</th>\n",
       "      <th>data_original_dir</th>\n",
       "      <th>long_utm</th>\n",
       "      <th>core_section</th>\n",
       "      <th>lat_utm</th>\n",
       "      <th>depth_to_water_surface_mm</th>\n",
       "      <th>coring_date</th>\n",
       "      <th>section_depth_mm</th>\n",
       "    </tr>\n",
       "    <tr>\n",
       "      <th>composite_id</th>\n",
       "      <th></th>\n",
       "      <th></th>\n",
       "      <th></th>\n",
       "      <th></th>\n",
       "      <th></th>\n",
       "      <th></th>\n",
       "      <th></th>\n",
       "      <th></th>\n",
       "      <th></th>\n",
       "      <th></th>\n",
       "      <th></th>\n",
       "      <th></th>\n",
       "    </tr>\n",
       "  </thead>\n",
       "  <tbody>\n",
       "    <tr>\n",
       "      <th>N10_00001</th>\n",
       "      <td>subtidal</td>\n",
       "      <td>\\\\10.110.16.10\\GeopolarLabor\\#Projekte\\WASA\\XR...</td>\n",
       "      <td>1</td>\n",
       "      <td>5.00</td>\n",
       "      <td>N10</td>\n",
       "      <td>\\\\10.110.16.10\\GeopolarLabor\\#Projekte\\WASA\\XR...</td>\n",
       "      <td>389460.02166</td>\n",
       "      <td>N10-5</td>\n",
       "      <td>5.956522e+06</td>\n",
       "      <td>5.0</td>\n",
       "      <td>2018-04-17</td>\n",
       "      <td>1.00</td>\n",
       "    </tr>\n",
       "    <tr>\n",
       "      <th>N10_00003</th>\n",
       "      <td>subtidal</td>\n",
       "      <td>\\\\10.110.16.10\\GeopolarLabor\\#Projekte\\WASA\\XR...</td>\n",
       "      <td>3</td>\n",
       "      <td>7.00</td>\n",
       "      <td>N10</td>\n",
       "      <td>\\\\10.110.16.10\\GeopolarLabor\\#Projekte\\WASA\\XR...</td>\n",
       "      <td>389460.02166</td>\n",
       "      <td>N10-5</td>\n",
       "      <td>5.956522e+06</td>\n",
       "      <td>7.0</td>\n",
       "      <td>2018-04-17</td>\n",
       "      <td>3.00</td>\n",
       "    </tr>\n",
       "    <tr>\n",
       "      <th>N10_00005</th>\n",
       "      <td>subtidal</td>\n",
       "      <td>\\\\10.110.16.10\\GeopolarLabor\\#Projekte\\WASA\\XR...</td>\n",
       "      <td>5</td>\n",
       "      <td>9.00</td>\n",
       "      <td>N10</td>\n",
       "      <td>\\\\10.110.16.10\\GeopolarLabor\\#Projekte\\WASA\\XR...</td>\n",
       "      <td>389460.02166</td>\n",
       "      <td>N10-5</td>\n",
       "      <td>5.956522e+06</td>\n",
       "      <td>9.0</td>\n",
       "      <td>2018-04-17</td>\n",
       "      <td>5.00</td>\n",
       "    </tr>\n",
       "    <tr>\n",
       "      <th>N10_00007</th>\n",
       "      <td>subtidal</td>\n",
       "      <td>\\\\10.110.16.10\\GeopolarLabor\\#Projekte\\WASA\\XR...</td>\n",
       "      <td>7</td>\n",
       "      <td>11.00</td>\n",
       "      <td>N10</td>\n",
       "      <td>\\\\10.110.16.10\\GeopolarLabor\\#Projekte\\WASA\\XR...</td>\n",
       "      <td>389460.02166</td>\n",
       "      <td>N10-5</td>\n",
       "      <td>5.956522e+06</td>\n",
       "      <td>11.0</td>\n",
       "      <td>2018-04-17</td>\n",
       "      <td>7.00</td>\n",
       "    </tr>\n",
       "    <tr>\n",
       "      <th>N10_00009</th>\n",
       "      <td>subtidal</td>\n",
       "      <td>\\\\10.110.16.10\\GeopolarLabor\\#Projekte\\WASA\\XR...</td>\n",
       "      <td>9</td>\n",
       "      <td>13.00</td>\n",
       "      <td>N10</td>\n",
       "      <td>\\\\10.110.16.10\\GeopolarLabor\\#Projekte\\WASA\\XR...</td>\n",
       "      <td>389460.02166</td>\n",
       "      <td>N10-5</td>\n",
       "      <td>5.956522e+06</td>\n",
       "      <td>13.0</td>\n",
       "      <td>2018-04-17</td>\n",
       "      <td>9.00</td>\n",
       "    </tr>\n",
       "    <tr>\n",
       "      <th>...</th>\n",
       "      <td>...</td>\n",
       "      <td>...</td>\n",
       "      <td>...</td>\n",
       "      <td>...</td>\n",
       "      <td>...</td>\n",
       "      <td>...</td>\n",
       "      <td>...</td>\n",
       "      <td>...</td>\n",
       "      <td>...</td>\n",
       "      <td>...</td>\n",
       "      <td>...</td>\n",
       "      <td>...</td>\n",
       "    </tr>\n",
       "    <tr>\n",
       "      <th>W6_01840</th>\n",
       "      <td>intertidal</td>\n",
       "      <td>\\\\10.110.16.10\\GeopolarLabor\\#Projekte\\WASA\\XR...</td>\n",
       "      <td>1840</td>\n",
       "      <td>994.04</td>\n",
       "      <td>W6</td>\n",
       "      <td>\\\\10.110.16.10\\GeopolarLabor\\#Projekte\\WASA\\XR...</td>\n",
       "      <td>382469.01300</td>\n",
       "      <td>W6-0</td>\n",
       "      <td>5.944948e+06</td>\n",
       "      <td>1844.0</td>\n",
       "      <td>2017-05-30</td>\n",
       "      <td>990.04</td>\n",
       "    </tr>\n",
       "    <tr>\n",
       "      <th>W6_01842</th>\n",
       "      <td>intertidal</td>\n",
       "      <td>\\\\10.110.16.10\\GeopolarLabor\\#Projekte\\WASA\\XR...</td>\n",
       "      <td>1842</td>\n",
       "      <td>996.04</td>\n",
       "      <td>W6</td>\n",
       "      <td>\\\\10.110.16.10\\GeopolarLabor\\#Projekte\\WASA\\XR...</td>\n",
       "      <td>382469.01300</td>\n",
       "      <td>W6-0</td>\n",
       "      <td>5.944948e+06</td>\n",
       "      <td>1846.0</td>\n",
       "      <td>2017-05-30</td>\n",
       "      <td>992.04</td>\n",
       "    </tr>\n",
       "    <tr>\n",
       "      <th>W6_01844</th>\n",
       "      <td>intertidal</td>\n",
       "      <td>\\\\10.110.16.10\\GeopolarLabor\\#Projekte\\WASA\\XR...</td>\n",
       "      <td>1844</td>\n",
       "      <td>998.04</td>\n",
       "      <td>W6</td>\n",
       "      <td>\\\\10.110.16.10\\GeopolarLabor\\#Projekte\\WASA\\XR...</td>\n",
       "      <td>382469.01300</td>\n",
       "      <td>W6-0</td>\n",
       "      <td>5.944948e+06</td>\n",
       "      <td>1848.0</td>\n",
       "      <td>2017-05-30</td>\n",
       "      <td>994.04</td>\n",
       "    </tr>\n",
       "    <tr>\n",
       "      <th>W6_01846</th>\n",
       "      <td>intertidal</td>\n",
       "      <td>\\\\10.110.16.10\\GeopolarLabor\\#Projekte\\WASA\\XR...</td>\n",
       "      <td>1846</td>\n",
       "      <td>1000.04</td>\n",
       "      <td>W6</td>\n",
       "      <td>\\\\10.110.16.10\\GeopolarLabor\\#Projekte\\WASA\\XR...</td>\n",
       "      <td>382469.01300</td>\n",
       "      <td>W6-0</td>\n",
       "      <td>5.944948e+06</td>\n",
       "      <td>1850.0</td>\n",
       "      <td>2017-05-30</td>\n",
       "      <td>996.04</td>\n",
       "    </tr>\n",
       "    <tr>\n",
       "      <th>W6_01848</th>\n",
       "      <td>intertidal</td>\n",
       "      <td>\\\\10.110.16.10\\GeopolarLabor\\#Projekte\\WASA\\XR...</td>\n",
       "      <td>1848</td>\n",
       "      <td>1002.04</td>\n",
       "      <td>W6</td>\n",
       "      <td>\\\\10.110.16.10\\GeopolarLabor\\#Projekte\\WASA\\XR...</td>\n",
       "      <td>382469.01300</td>\n",
       "      <td>W6-0</td>\n",
       "      <td>5.944948e+06</td>\n",
       "      <td>1852.0</td>\n",
       "      <td>2017-05-30</td>\n",
       "      <td>998.04</td>\n",
       "    </tr>\n",
       "  </tbody>\n",
       "</table>\n",
       "<p>170436 rows × 12 columns</p>\n",
       "</div>"
      ],
      "text/plain": [
       "                tidezone                                  composite_spe_dir  \\\n",
       "composite_id                                                                  \n",
       "N10_00001       subtidal  \\\\10.110.16.10\\GeopolarLabor\\#Projekte\\WASA\\XR...   \n",
       "N10_00003       subtidal  \\\\10.110.16.10\\GeopolarLabor\\#Projekte\\WASA\\XR...   \n",
       "N10_00005       subtidal  \\\\10.110.16.10\\GeopolarLabor\\#Projekte\\WASA\\XR...   \n",
       "N10_00007       subtidal  \\\\10.110.16.10\\GeopolarLabor\\#Projekte\\WASA\\XR...   \n",
       "N10_00009       subtidal  \\\\10.110.16.10\\GeopolarLabor\\#Projekte\\WASA\\XR...   \n",
       "...                  ...                                                ...   \n",
       "W6_01840      intertidal  \\\\10.110.16.10\\GeopolarLabor\\#Projekte\\WASA\\XR...   \n",
       "W6_01842      intertidal  \\\\10.110.16.10\\GeopolarLabor\\#Projekte\\WASA\\XR...   \n",
       "W6_01844      intertidal  \\\\10.110.16.10\\GeopolarLabor\\#Projekte\\WASA\\XR...   \n",
       "W6_01846      intertidal  \\\\10.110.16.10\\GeopolarLabor\\#Projekte\\WASA\\XR...   \n",
       "W6_01848      intertidal  \\\\10.110.16.10\\GeopolarLabor\\#Projekte\\WASA\\XR...   \n",
       "\n",
       "              composite_depth_mm  original_depth_mm core_id  \\\n",
       "composite_id                                                  \n",
       "N10_00001                      1               5.00     N10   \n",
       "N10_00003                      3               7.00     N10   \n",
       "N10_00005                      5               9.00     N10   \n",
       "N10_00007                      7              11.00     N10   \n",
       "N10_00009                      9              13.00     N10   \n",
       "...                          ...                ...     ...   \n",
       "W6_01840                    1840             994.04      W6   \n",
       "W6_01842                    1842             996.04      W6   \n",
       "W6_01844                    1844             998.04      W6   \n",
       "W6_01846                    1846            1000.04      W6   \n",
       "W6_01848                    1848            1002.04      W6   \n",
       "\n",
       "                                              data_original_dir      long_utm  \\\n",
       "composite_id                                                                    \n",
       "N10_00001     \\\\10.110.16.10\\GeopolarLabor\\#Projekte\\WASA\\XR...  389460.02166   \n",
       "N10_00003     \\\\10.110.16.10\\GeopolarLabor\\#Projekte\\WASA\\XR...  389460.02166   \n",
       "N10_00005     \\\\10.110.16.10\\GeopolarLabor\\#Projekte\\WASA\\XR...  389460.02166   \n",
       "N10_00007     \\\\10.110.16.10\\GeopolarLabor\\#Projekte\\WASA\\XR...  389460.02166   \n",
       "N10_00009     \\\\10.110.16.10\\GeopolarLabor\\#Projekte\\WASA\\XR...  389460.02166   \n",
       "...                                                         ...           ...   \n",
       "W6_01840      \\\\10.110.16.10\\GeopolarLabor\\#Projekte\\WASA\\XR...  382469.01300   \n",
       "W6_01842      \\\\10.110.16.10\\GeopolarLabor\\#Projekte\\WASA\\XR...  382469.01300   \n",
       "W6_01844      \\\\10.110.16.10\\GeopolarLabor\\#Projekte\\WASA\\XR...  382469.01300   \n",
       "W6_01846      \\\\10.110.16.10\\GeopolarLabor\\#Projekte\\WASA\\XR...  382469.01300   \n",
       "W6_01848      \\\\10.110.16.10\\GeopolarLabor\\#Projekte\\WASA\\XR...  382469.01300   \n",
       "\n",
       "             core_section       lat_utm  depth_to_water_surface_mm  \\\n",
       "composite_id                                                         \n",
       "N10_00001           N10-5  5.956522e+06                        5.0   \n",
       "N10_00003           N10-5  5.956522e+06                        7.0   \n",
       "N10_00005           N10-5  5.956522e+06                        9.0   \n",
       "N10_00007           N10-5  5.956522e+06                       11.0   \n",
       "N10_00009           N10-5  5.956522e+06                       13.0   \n",
       "...                   ...           ...                        ...   \n",
       "W6_01840             W6-0  5.944948e+06                     1844.0   \n",
       "W6_01842             W6-0  5.944948e+06                     1846.0   \n",
       "W6_01844             W6-0  5.944948e+06                     1848.0   \n",
       "W6_01846             W6-0  5.944948e+06                     1850.0   \n",
       "W6_01848             W6-0  5.944948e+06                     1852.0   \n",
       "\n",
       "             coring_date  section_depth_mm  \n",
       "composite_id                                \n",
       "N10_00001     2018-04-17              1.00  \n",
       "N10_00003     2018-04-17              3.00  \n",
       "N10_00005     2018-04-17              5.00  \n",
       "N10_00007     2018-04-17              7.00  \n",
       "N10_00009     2018-04-17              9.00  \n",
       "...                  ...               ...  \n",
       "W6_01840      2017-05-30            990.04  \n",
       "W6_01842      2017-05-30            992.04  \n",
       "W6_01844      2017-05-30            994.04  \n",
       "W6_01846      2017-05-30            996.04  \n",
       "W6_01848      2017-05-30            998.04  \n",
       "\n",
       "[170436 rows x 12 columns]"
      ]
     },
     "execution_count": 12,
     "metadata": {},
     "output_type": "execute_result"
    }
   ],
   "source": [
    "info_df = pd.concat([info_df.drop(['section_depth_mm', 'section_depth_mm_out'], axis=1), section_depth], axis=1, join='inner')\n",
    "info_df"
   ]
  },
  {
   "cell_type": "markdown",
   "metadata": {},
   "source": [
    "Just check, the row amount is correct."
   ]
  },
  {
   "cell_type": "code",
   "execution_count": 13,
   "metadata": {},
   "outputs": [],
   "source": [
    "info_df.to_csv('data/info.cleaned.all.csv')"
   ]
  }
 ],
 "metadata": {
  "colab": {
   "collapsed_sections": [],
   "name": "composite_depth_adjustment.ipynb",
   "provenance": [],
   "toc_visible": true
  },
  "kernelspec": {
   "display_name": "Python 3",
   "language": "python",
   "name": "python3"
  },
  "language_info": {
   "codemirror_mode": {
    "name": "ipython",
    "version": 3
   },
   "file_extension": ".py",
   "mimetype": "text/x-python",
   "name": "python",
   "nbconvert_exporter": "python",
   "pygments_lexer": "ipython3",
   "version": "3.7.7"
  }
 },
 "nbformat": 4,
 "nbformat_minor": 4
}
